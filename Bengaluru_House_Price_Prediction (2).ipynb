{
  "nbformat": 4,
  "nbformat_minor": 0,
  "metadata": {
    "colab": {
      "name": " Bengaluru_House_Price_Prediction.ipynb",
      "provenance": [],
      "toc_visible": true
    },
    "kernelspec": {
      "name": "python3",
      "display_name": "Python 3"
    },
    "language_info": {
      "name": "python"
    }
  },
  "cells": [
    {
      "cell_type": "markdown",
      "source": [
        "# **Importing Important Liabraries**"
      ],
      "metadata": {
        "id": "lwy492aqk2Ps"
      }
    },
    {
      "cell_type": "code",
      "execution_count": null,
      "metadata": {
        "id": "8Pjr33jK6sf8"
      },
      "outputs": [],
      "source": [
        "import pandas as pd\n",
        "import numpy as np\n",
        "import matplotlib.pyplot as plt\n",
        "import seaborn as sns"
      ]
    },
    {
      "cell_type": "markdown",
      "source": [
        "# **Importing csv File**"
      ],
      "metadata": {
        "id": "lmvBGBr6k7Tn"
      }
    },
    {
      "cell_type": "code",
      "source": [
        "data_set= pd.read_csv('/content/Bengaluru_House_Data.csv')\n",
        "data_set.head()\n"
      ],
      "metadata": {
        "colab": {
          "base_uri": "https://localhost:8080/"
        },
        "id": "v0vso9iG7Kvb",
        "outputId": "a22d7b93-2be6-4aa5-cb16-df1a474f0348"
      },
      "execution_count": null,
      "outputs": [
        {
          "output_type": "execute_result",
          "data": {
            "text/plain": [
              "              area_type availability                  location       size  \\\n",
              "0  Super built-up  Area       16-Jan  Electronic City Phase II      2 BHK   \n",
              "1            Plot  Area       17-Jan          Chikka Tirupathi  4 Bedroom   \n",
              "2        Built-up  Area       18-Jan               Uttarahalli      3 BHK   \n",
              "3  Super built-up  Area       18-Jan        Lingadheeranahalli      3 BHK   \n",
              "4  Super built-up  Area       18-Jan                  Kothanur      2 BHK   \n",
              "\n",
              "   society total_sqft  bath  balcony   price  \n",
              "0  Coomee        1056   2.0      1.0   39.07  \n",
              "1  Theanmp       2600   5.0      3.0  120.00  \n",
              "2      NaN       1440   2.0      3.0   62.00  \n",
              "3  Soiewre       1521   3.0      1.0   95.00  \n",
              "4      NaN       1200   2.0      1.0   51.00  "
            ],
            "text/html": [
              "\n",
              "  <div id=\"df-439aeb49-fec5-4972-82cb-80ef178aeb3b\">\n",
              "    <div class=\"colab-df-container\">\n",
              "      <div>\n",
              "<style scoped>\n",
              "    .dataframe tbody tr th:only-of-type {\n",
              "        vertical-align: middle;\n",
              "    }\n",
              "\n",
              "    .dataframe tbody tr th {\n",
              "        vertical-align: top;\n",
              "    }\n",
              "\n",
              "    .dataframe thead th {\n",
              "        text-align: right;\n",
              "    }\n",
              "</style>\n",
              "<table border=\"1\" class=\"dataframe\">\n",
              "  <thead>\n",
              "    <tr style=\"text-align: right;\">\n",
              "      <th></th>\n",
              "      <th>area_type</th>\n",
              "      <th>availability</th>\n",
              "      <th>location</th>\n",
              "      <th>size</th>\n",
              "      <th>society</th>\n",
              "      <th>total_sqft</th>\n",
              "      <th>bath</th>\n",
              "      <th>balcony</th>\n",
              "      <th>price</th>\n",
              "    </tr>\n",
              "  </thead>\n",
              "  <tbody>\n",
              "    <tr>\n",
              "      <th>0</th>\n",
              "      <td>Super built-up  Area</td>\n",
              "      <td>16-Jan</td>\n",
              "      <td>Electronic City Phase II</td>\n",
              "      <td>2 BHK</td>\n",
              "      <td>Coomee</td>\n",
              "      <td>1056</td>\n",
              "      <td>2.0</td>\n",
              "      <td>1.0</td>\n",
              "      <td>39.07</td>\n",
              "    </tr>\n",
              "    <tr>\n",
              "      <th>1</th>\n",
              "      <td>Plot  Area</td>\n",
              "      <td>17-Jan</td>\n",
              "      <td>Chikka Tirupathi</td>\n",
              "      <td>4 Bedroom</td>\n",
              "      <td>Theanmp</td>\n",
              "      <td>2600</td>\n",
              "      <td>5.0</td>\n",
              "      <td>3.0</td>\n",
              "      <td>120.00</td>\n",
              "    </tr>\n",
              "    <tr>\n",
              "      <th>2</th>\n",
              "      <td>Built-up  Area</td>\n",
              "      <td>18-Jan</td>\n",
              "      <td>Uttarahalli</td>\n",
              "      <td>3 BHK</td>\n",
              "      <td>NaN</td>\n",
              "      <td>1440</td>\n",
              "      <td>2.0</td>\n",
              "      <td>3.0</td>\n",
              "      <td>62.00</td>\n",
              "    </tr>\n",
              "    <tr>\n",
              "      <th>3</th>\n",
              "      <td>Super built-up  Area</td>\n",
              "      <td>18-Jan</td>\n",
              "      <td>Lingadheeranahalli</td>\n",
              "      <td>3 BHK</td>\n",
              "      <td>Soiewre</td>\n",
              "      <td>1521</td>\n",
              "      <td>3.0</td>\n",
              "      <td>1.0</td>\n",
              "      <td>95.00</td>\n",
              "    </tr>\n",
              "    <tr>\n",
              "      <th>4</th>\n",
              "      <td>Super built-up  Area</td>\n",
              "      <td>18-Jan</td>\n",
              "      <td>Kothanur</td>\n",
              "      <td>2 BHK</td>\n",
              "      <td>NaN</td>\n",
              "      <td>1200</td>\n",
              "      <td>2.0</td>\n",
              "      <td>1.0</td>\n",
              "      <td>51.00</td>\n",
              "    </tr>\n",
              "  </tbody>\n",
              "</table>\n",
              "</div>\n",
              "      <button class=\"colab-df-convert\" onclick=\"convertToInteractive('df-439aeb49-fec5-4972-82cb-80ef178aeb3b')\"\n",
              "              title=\"Convert this dataframe to an interactive table.\"\n",
              "              style=\"display:none;\">\n",
              "        \n",
              "  <svg xmlns=\"http://www.w3.org/2000/svg\" height=\"24px\"viewBox=\"0 0 24 24\"\n",
              "       width=\"24px\">\n",
              "    <path d=\"M0 0h24v24H0V0z\" fill=\"none\"/>\n",
              "    <path d=\"M18.56 5.44l.94 2.06.94-2.06 2.06-.94-2.06-.94-.94-2.06-.94 2.06-2.06.94zm-11 1L8.5 8.5l.94-2.06 2.06-.94-2.06-.94L8.5 2.5l-.94 2.06-2.06.94zm10 10l.94 2.06.94-2.06 2.06-.94-2.06-.94-.94-2.06-.94 2.06-2.06.94z\"/><path d=\"M17.41 7.96l-1.37-1.37c-.4-.4-.92-.59-1.43-.59-.52 0-1.04.2-1.43.59L10.3 9.45l-7.72 7.72c-.78.78-.78 2.05 0 2.83L4 21.41c.39.39.9.59 1.41.59.51 0 1.02-.2 1.41-.59l7.78-7.78 2.81-2.81c.8-.78.8-2.07 0-2.86zM5.41 20L4 18.59l7.72-7.72 1.47 1.35L5.41 20z\"/>\n",
              "  </svg>\n",
              "      </button>\n",
              "      \n",
              "  <style>\n",
              "    .colab-df-container {\n",
              "      display:flex;\n",
              "      flex-wrap:wrap;\n",
              "      gap: 12px;\n",
              "    }\n",
              "\n",
              "    .colab-df-convert {\n",
              "      background-color: #E8F0FE;\n",
              "      border: none;\n",
              "      border-radius: 50%;\n",
              "      cursor: pointer;\n",
              "      display: none;\n",
              "      fill: #1967D2;\n",
              "      height: 32px;\n",
              "      padding: 0 0 0 0;\n",
              "      width: 32px;\n",
              "    }\n",
              "\n",
              "    .colab-df-convert:hover {\n",
              "      background-color: #E2EBFA;\n",
              "      box-shadow: 0px 1px 2px rgba(60, 64, 67, 0.3), 0px 1px 3px 1px rgba(60, 64, 67, 0.15);\n",
              "      fill: #174EA6;\n",
              "    }\n",
              "\n",
              "    [theme=dark] .colab-df-convert {\n",
              "      background-color: #3B4455;\n",
              "      fill: #D2E3FC;\n",
              "    }\n",
              "\n",
              "    [theme=dark] .colab-df-convert:hover {\n",
              "      background-color: #434B5C;\n",
              "      box-shadow: 0px 1px 3px 1px rgba(0, 0, 0, 0.15);\n",
              "      filter: drop-shadow(0px 1px 2px rgba(0, 0, 0, 0.3));\n",
              "      fill: #FFFFFF;\n",
              "    }\n",
              "  </style>\n",
              "\n",
              "      <script>\n",
              "        const buttonEl =\n",
              "          document.querySelector('#df-439aeb49-fec5-4972-82cb-80ef178aeb3b button.colab-df-convert');\n",
              "        buttonEl.style.display =\n",
              "          google.colab.kernel.accessAllowed ? 'block' : 'none';\n",
              "\n",
              "        async function convertToInteractive(key) {\n",
              "          const element = document.querySelector('#df-439aeb49-fec5-4972-82cb-80ef178aeb3b');\n",
              "          const dataTable =\n",
              "            await google.colab.kernel.invokeFunction('convertToInteractive',\n",
              "                                                     [key], {});\n",
              "          if (!dataTable) return;\n",
              "\n",
              "          const docLinkHtml = 'Like what you see? Visit the ' +\n",
              "            '<a target=\"_blank\" href=https://colab.research.google.com/notebooks/data_table.ipynb>data table notebook</a>'\n",
              "            + ' to learn more about interactive tables.';\n",
              "          element.innerHTML = '';\n",
              "          dataTable['output_type'] = 'display_data';\n",
              "          await google.colab.output.renderOutput(dataTable, element);\n",
              "          const docLink = document.createElement('div');\n",
              "          docLink.innerHTML = docLinkHtml;\n",
              "          element.appendChild(docLink);\n",
              "        }\n",
              "      </script>\n",
              "    </div>\n",
              "  </div>\n",
              "  "
            ]
          },
          "metadata": {},
          "execution_count": 434
        }
      ]
    },
    {
      "cell_type": "markdown",
      "source": [
        "# **Analysing the DataFrame**"
      ],
      "metadata": {
        "id": "DdreV4jAFAlb"
      }
    },
    {
      "cell_type": "code",
      "source": [
        "data_set.info()"
      ],
      "metadata": {
        "colab": {
          "base_uri": "https://localhost:8080/"
        },
        "id": "oaHfkYov_Hjx",
        "outputId": "0fb1f26f-4f48-4411-f9b8-d244d14c5eb4"
      },
      "execution_count": null,
      "outputs": [
        {
          "output_type": "stream",
          "name": "stdout",
          "text": [
            "<class 'pandas.core.frame.DataFrame'>\n",
            "RangeIndex: 13320 entries, 0 to 13319\n",
            "Data columns (total 9 columns):\n",
            " #   Column        Non-Null Count  Dtype  \n",
            "---  ------        --------------  -----  \n",
            " 0   area_type     13320 non-null  object \n",
            " 1   availability  13320 non-null  object \n",
            " 2   location      13319 non-null  object \n",
            " 3   size          13304 non-null  object \n",
            " 4   society       7818 non-null   object \n",
            " 5   total_sqft    13320 non-null  object \n",
            " 6   bath          13247 non-null  float64\n",
            " 7   balcony       12711 non-null  float64\n",
            " 8   price         13320 non-null  float64\n",
            "dtypes: float64(3), object(6)\n",
            "memory usage: 936.7+ KB\n"
          ]
        }
      ]
    },
    {
      "cell_type": "code",
      "source": [
        "data_set.isnull().sum()"
      ],
      "metadata": {
        "colab": {
          "base_uri": "https://localhost:8080/"
        },
        "id": "xC3sy2S2_qwa",
        "outputId": "16921ce5-64ed-4fc9-b146-d58c03e9331f"
      },
      "execution_count": null,
      "outputs": [
        {
          "output_type": "execute_result",
          "data": {
            "text/plain": [
              "area_type          0\n",
              "availability       0\n",
              "location           1\n",
              "size              16\n",
              "society         5502\n",
              "total_sqft         0\n",
              "bath              73\n",
              "balcony          609\n",
              "price              0\n",
              "dtype: int64"
            ]
          },
          "metadata": {},
          "execution_count": 436
        }
      ]
    },
    {
      "cell_type": "code",
      "source": [
        "data_set.describe()"
      ],
      "metadata": {
        "colab": {
          "base_uri": "https://localhost:8080/"
        },
        "id": "6KhrPXCJlPQX",
        "outputId": "bbed5549-5463-45c7-b287-7c64e9ed0f44"
      },
      "execution_count": null,
      "outputs": [
        {
          "output_type": "execute_result",
          "data": {
            "text/plain": [
              "               bath       balcony         price\n",
              "count  13247.000000  12711.000000  13320.000000\n",
              "mean       2.692610      1.584376    112.565627\n",
              "std        1.341458      0.817263    148.971674\n",
              "min        1.000000      0.000000      8.000000\n",
              "25%        2.000000      1.000000     50.000000\n",
              "50%        2.000000      2.000000     72.000000\n",
              "75%        3.000000      2.000000    120.000000\n",
              "max       40.000000      3.000000   3600.000000"
            ],
            "text/html": [
              "\n",
              "  <div id=\"df-4868a1d3-9efe-45c5-ad37-99743e2c52a7\">\n",
              "    <div class=\"colab-df-container\">\n",
              "      <div>\n",
              "<style scoped>\n",
              "    .dataframe tbody tr th:only-of-type {\n",
              "        vertical-align: middle;\n",
              "    }\n",
              "\n",
              "    .dataframe tbody tr th {\n",
              "        vertical-align: top;\n",
              "    }\n",
              "\n",
              "    .dataframe thead th {\n",
              "        text-align: right;\n",
              "    }\n",
              "</style>\n",
              "<table border=\"1\" class=\"dataframe\">\n",
              "  <thead>\n",
              "    <tr style=\"text-align: right;\">\n",
              "      <th></th>\n",
              "      <th>bath</th>\n",
              "      <th>balcony</th>\n",
              "      <th>price</th>\n",
              "    </tr>\n",
              "  </thead>\n",
              "  <tbody>\n",
              "    <tr>\n",
              "      <th>count</th>\n",
              "      <td>13247.000000</td>\n",
              "      <td>12711.000000</td>\n",
              "      <td>13320.000000</td>\n",
              "    </tr>\n",
              "    <tr>\n",
              "      <th>mean</th>\n",
              "      <td>2.692610</td>\n",
              "      <td>1.584376</td>\n",
              "      <td>112.565627</td>\n",
              "    </tr>\n",
              "    <tr>\n",
              "      <th>std</th>\n",
              "      <td>1.341458</td>\n",
              "      <td>0.817263</td>\n",
              "      <td>148.971674</td>\n",
              "    </tr>\n",
              "    <tr>\n",
              "      <th>min</th>\n",
              "      <td>1.000000</td>\n",
              "      <td>0.000000</td>\n",
              "      <td>8.000000</td>\n",
              "    </tr>\n",
              "    <tr>\n",
              "      <th>25%</th>\n",
              "      <td>2.000000</td>\n",
              "      <td>1.000000</td>\n",
              "      <td>50.000000</td>\n",
              "    </tr>\n",
              "    <tr>\n",
              "      <th>50%</th>\n",
              "      <td>2.000000</td>\n",
              "      <td>2.000000</td>\n",
              "      <td>72.000000</td>\n",
              "    </tr>\n",
              "    <tr>\n",
              "      <th>75%</th>\n",
              "      <td>3.000000</td>\n",
              "      <td>2.000000</td>\n",
              "      <td>120.000000</td>\n",
              "    </tr>\n",
              "    <tr>\n",
              "      <th>max</th>\n",
              "      <td>40.000000</td>\n",
              "      <td>3.000000</td>\n",
              "      <td>3600.000000</td>\n",
              "    </tr>\n",
              "  </tbody>\n",
              "</table>\n",
              "</div>\n",
              "      <button class=\"colab-df-convert\" onclick=\"convertToInteractive('df-4868a1d3-9efe-45c5-ad37-99743e2c52a7')\"\n",
              "              title=\"Convert this dataframe to an interactive table.\"\n",
              "              style=\"display:none;\">\n",
              "        \n",
              "  <svg xmlns=\"http://www.w3.org/2000/svg\" height=\"24px\"viewBox=\"0 0 24 24\"\n",
              "       width=\"24px\">\n",
              "    <path d=\"M0 0h24v24H0V0z\" fill=\"none\"/>\n",
              "    <path d=\"M18.56 5.44l.94 2.06.94-2.06 2.06-.94-2.06-.94-.94-2.06-.94 2.06-2.06.94zm-11 1L8.5 8.5l.94-2.06 2.06-.94-2.06-.94L8.5 2.5l-.94 2.06-2.06.94zm10 10l.94 2.06.94-2.06 2.06-.94-2.06-.94-.94-2.06-.94 2.06-2.06.94z\"/><path d=\"M17.41 7.96l-1.37-1.37c-.4-.4-.92-.59-1.43-.59-.52 0-1.04.2-1.43.59L10.3 9.45l-7.72 7.72c-.78.78-.78 2.05 0 2.83L4 21.41c.39.39.9.59 1.41.59.51 0 1.02-.2 1.41-.59l7.78-7.78 2.81-2.81c.8-.78.8-2.07 0-2.86zM5.41 20L4 18.59l7.72-7.72 1.47 1.35L5.41 20z\"/>\n",
              "  </svg>\n",
              "      </button>\n",
              "      \n",
              "  <style>\n",
              "    .colab-df-container {\n",
              "      display:flex;\n",
              "      flex-wrap:wrap;\n",
              "      gap: 12px;\n",
              "    }\n",
              "\n",
              "    .colab-df-convert {\n",
              "      background-color: #E8F0FE;\n",
              "      border: none;\n",
              "      border-radius: 50%;\n",
              "      cursor: pointer;\n",
              "      display: none;\n",
              "      fill: #1967D2;\n",
              "      height: 32px;\n",
              "      padding: 0 0 0 0;\n",
              "      width: 32px;\n",
              "    }\n",
              "\n",
              "    .colab-df-convert:hover {\n",
              "      background-color: #E2EBFA;\n",
              "      box-shadow: 0px 1px 2px rgba(60, 64, 67, 0.3), 0px 1px 3px 1px rgba(60, 64, 67, 0.15);\n",
              "      fill: #174EA6;\n",
              "    }\n",
              "\n",
              "    [theme=dark] .colab-df-convert {\n",
              "      background-color: #3B4455;\n",
              "      fill: #D2E3FC;\n",
              "    }\n",
              "\n",
              "    [theme=dark] .colab-df-convert:hover {\n",
              "      background-color: #434B5C;\n",
              "      box-shadow: 0px 1px 3px 1px rgba(0, 0, 0, 0.15);\n",
              "      filter: drop-shadow(0px 1px 2px rgba(0, 0, 0, 0.3));\n",
              "      fill: #FFFFFF;\n",
              "    }\n",
              "  </style>\n",
              "\n",
              "      <script>\n",
              "        const buttonEl =\n",
              "          document.querySelector('#df-4868a1d3-9efe-45c5-ad37-99743e2c52a7 button.colab-df-convert');\n",
              "        buttonEl.style.display =\n",
              "          google.colab.kernel.accessAllowed ? 'block' : 'none';\n",
              "\n",
              "        async function convertToInteractive(key) {\n",
              "          const element = document.querySelector('#df-4868a1d3-9efe-45c5-ad37-99743e2c52a7');\n",
              "          const dataTable =\n",
              "            await google.colab.kernel.invokeFunction('convertToInteractive',\n",
              "                                                     [key], {});\n",
              "          if (!dataTable) return;\n",
              "\n",
              "          const docLinkHtml = 'Like what you see? Visit the ' +\n",
              "            '<a target=\"_blank\" href=https://colab.research.google.com/notebooks/data_table.ipynb>data table notebook</a>'\n",
              "            + ' to learn more about interactive tables.';\n",
              "          element.innerHTML = '';\n",
              "          dataTable['output_type'] = 'display_data';\n",
              "          await google.colab.output.renderOutput(dataTable, element);\n",
              "          const docLink = document.createElement('div');\n",
              "          docLink.innerHTML = docLinkHtml;\n",
              "          element.appendChild(docLink);\n",
              "        }\n",
              "      </script>\n",
              "    </div>\n",
              "  </div>\n",
              "  "
            ]
          },
          "metadata": {},
          "execution_count": 437
        }
      ]
    },
    {
      "cell_type": "markdown",
      "source": [
        "# **Data Cleaning or missing value treatment:**"
      ],
      "metadata": {
        "id": "nlG9Las-lSQm"
      }
    },
    {
      "cell_type": "code",
      "source": [
        "data_set = data_set.drop([\"society\"], axis = 1)"
      ],
      "metadata": {
        "id": "G12qRGAZAQfL"
      },
      "execution_count": null,
      "outputs": []
    },
    {
      "cell_type": "code",
      "source": [
        "data_set['balcony'].fillna(data_set['balcony'].mode(), inplace=True)"
      ],
      "metadata": {
        "id": "weexSe6pAzlo"
      },
      "execution_count": null,
      "outputs": []
    },
    {
      "cell_type": "code",
      "source": [
        "data_set['bath'].fillna(data_set['bath'].mode(), inplace=True)"
      ],
      "metadata": {
        "id": "PJpPMlj1CQob"
      },
      "execution_count": null,
      "outputs": []
    },
    {
      "cell_type": "code",
      "source": [
        "data_set['size'].fillna(data_set['size'].mode(), inplace=True)"
      ],
      "metadata": {
        "id": "3WSOeuaR-HEg"
      },
      "execution_count": null,
      "outputs": []
    },
    {
      "cell_type": "code",
      "source": [
        "data_set.dropna(axis = 0, inplace = True)"
      ],
      "metadata": {
        "id": "6ttJyHRgBUXn"
      },
      "execution_count": null,
      "outputs": []
    },
    {
      "cell_type": "code",
      "source": [
        "data_set.isnull().sum()"
      ],
      "metadata": {
        "colab": {
          "base_uri": "https://localhost:8080/"
        },
        "id": "k45hzzlNEUq-",
        "outputId": "45f3b8a6-70b6-4fff-e75f-f5977eaecf28"
      },
      "execution_count": null,
      "outputs": [
        {
          "output_type": "execute_result",
          "data": {
            "text/plain": [
              "area_type       0\n",
              "availability    0\n",
              "location        0\n",
              "size            0\n",
              "total_sqft      0\n",
              "bath            0\n",
              "balcony         0\n",
              "price           0\n",
              "dtype: int64"
            ]
          },
          "metadata": {},
          "execution_count": 443
        }
      ]
    },
    {
      "cell_type": "markdown",
      "source": [
        "# **Data Manipulation & Explratory Data Analysis**"
      ],
      "metadata": {
        "id": "O0cUS4KiFP-f"
      }
    },
    {
      "cell_type": "code",
      "source": [
        "data_set.info()"
      ],
      "metadata": {
        "colab": {
          "base_uri": "https://localhost:8080/"
        },
        "id": "chKHroyPEiOU",
        "outputId": "5491221e-9a34-49c5-c4f2-13f1a0751f66"
      },
      "execution_count": null,
      "outputs": [
        {
          "output_type": "stream",
          "name": "stdout",
          "text": [
            "<class 'pandas.core.frame.DataFrame'>\n",
            "Int64Index: 12710 entries, 0 to 13319\n",
            "Data columns (total 8 columns):\n",
            " #   Column        Non-Null Count  Dtype  \n",
            "---  ------        --------------  -----  \n",
            " 0   area_type     12710 non-null  object \n",
            " 1   availability  12710 non-null  object \n",
            " 2   location      12710 non-null  object \n",
            " 3   size          12710 non-null  object \n",
            " 4   total_sqft    12710 non-null  object \n",
            " 5   bath          12710 non-null  float64\n",
            " 6   balcony       12710 non-null  float64\n",
            " 7   price         12710 non-null  float64\n",
            "dtypes: float64(3), object(5)\n",
            "memory usage: 893.7+ KB\n"
          ]
        }
      ]
    },
    {
      "cell_type": "code",
      "source": [
        "data_set.nunique()"
      ],
      "metadata": {
        "colab": {
          "base_uri": "https://localhost:8080/"
        },
        "id": "TLYNEiGRFcCc",
        "outputId": "fe2764f7-39f9-4b4d-8d13-e6f051dd31ea"
      },
      "execution_count": null,
      "outputs": [
        {
          "output_type": "execute_result",
          "data": {
            "text/plain": [
              "area_type          4\n",
              "availability      81\n",
              "location        1265\n",
              "size              27\n",
              "total_sqft      1976\n",
              "bath              16\n",
              "balcony            4\n",
              "price           1924\n",
              "dtype: int64"
            ]
          },
          "metadata": {},
          "execution_count": 445
        }
      ]
    },
    {
      "cell_type": "code",
      "source": [
        "for column in data_set.columns[0:]:\n",
        "    print(column,\": \",data_set[column].unique())"
      ],
      "metadata": {
        "colab": {
          "base_uri": "https://localhost:8080/"
        },
        "id": "2WRCAOAqFrD7",
        "outputId": "4824d177-a372-437f-93fe-105a996c38d1"
      },
      "execution_count": null,
      "outputs": [
        {
          "output_type": "stream",
          "name": "stdout",
          "text": [
            "area_type :  ['Super built-up  Area' 'Plot  Area' 'Built-up  Area' 'Carpet  Area']\n",
            "availability :  ['16-Jan' '17-Jan' '18-Jan' '19-Jan' '20-Jan' '21-Jan' '22-Jan' '17-Feb'\n",
            " '18-Feb' '19-Feb' '20-Feb' '21-Feb' '16-Mar' '17-Mar' '18-Mar' '19-Mar'\n",
            " '20-Mar' '21-Mar' '22-Mar' '17-Apr' '18-Apr' '19-Apr' '20-Apr' '17-May'\n",
            " '18-May' '19-May' '20-May' '21-May' '22-May' '15-Jun' '17-Jun' '18-Jun'\n",
            " '19-Jun' '20-Jun' '21-Jun' '22-Jun' '14-Jul' '16-Jul' '17-Jul' '18-Jul'\n",
            " '19-Jul' '20-Jul' '21-Jul' '15-Aug' '17-Aug' '18-Aug' '19-Aug' '20-Aug'\n",
            " '21-Aug' '16-Sep' '17-Sep' '18-Sep' '19-Sep' '20-Sep' '21-Sep' '15-Oct'\n",
            " '16-Oct' '17-Oct' '18-Oct' '19-Oct' '20-Oct' '21-Oct' '14-Nov' '15-Nov'\n",
            " '16-Nov' '17-Nov' '18-Nov' '19-Nov' '20-Nov' '21-Nov' '22-Nov' '15-Dec'\n",
            " '16-Dec' '17-Dec' '18-Dec' '19-Dec' '20-Dec' '21-Dec' '22-Dec'\n",
            " 'Immediate Possession' 'Ready To Move']\n",
            "location :  ['Electronic City Phase II' 'Chikka Tirupathi' 'Uttarahalli' ...\n",
            " '12th cross srinivas nagar banshankari 3rd stage' 'Havanur extension'\n",
            " 'Abshot Layout']\n",
            "size :  ['2 BHK' '4 Bedroom' '3 BHK' '3 Bedroom' '1 BHK' '1 RK' '4 BHK'\n",
            " '1 Bedroom' '2 Bedroom' '6 Bedroom' '8 Bedroom' '7 Bedroom' '5 BHK'\n",
            " '7 BHK' '6 BHK' '5 Bedroom' '11 BHK' '9 BHK' '9 Bedroom' '27 BHK'\n",
            " '11 Bedroom' '43 Bedroom' '14 BHK' '8 BHK' '12 Bedroom' '10 Bedroom'\n",
            " '13 BHK']\n",
            "total_sqft :  ['1056' '2600' '1440' ... '1133 - 1384' '774' '4689']\n",
            "bath :  [ 2.  5.  3.  4.  1.  8.  7.  6.  9. 27. 11. 12. 10. 40. 15. 13.]\n",
            "balcony :  [1. 3. 2. 0.]\n",
            "price :  [ 39.07 120.    62.   ...  40.14 231.   488.  ]\n"
          ]
        }
      ]
    },
    {
      "cell_type": "code",
      "source": [
        "data_set['size'].unique()"
      ],
      "metadata": {
        "colab": {
          "base_uri": "https://localhost:8080/"
        },
        "id": "BdYbGCZdGdnD",
        "outputId": "760b6e9f-d4d6-4286-905f-02b73674688f"
      },
      "execution_count": null,
      "outputs": [
        {
          "output_type": "execute_result",
          "data": {
            "text/plain": [
              "array(['2 BHK', '4 Bedroom', '3 BHK', '3 Bedroom', '1 BHK', '1 RK',\n",
              "       '4 BHK', '1 Bedroom', '2 Bedroom', '6 Bedroom', '8 Bedroom',\n",
              "       '7 Bedroom', '5 BHK', '7 BHK', '6 BHK', '5 Bedroom', '11 BHK',\n",
              "       '9 BHK', '9 Bedroom', '27 BHK', '11 Bedroom', '43 Bedroom',\n",
              "       '14 BHK', '8 BHK', '12 Bedroom', '10 Bedroom', '13 BHK'],\n",
              "      dtype=object)"
            ]
          },
          "metadata": {},
          "execution_count": 447
        }
      ]
    },
    {
      "cell_type": "code",
      "source": [],
      "metadata": {
        "id": "yR4x_dDmX8of"
      },
      "execution_count": null,
      "outputs": []
    },
    {
      "cell_type": "code",
      "source": [
        "data_set['size']= data_set['size'].apply(lambda x :float(x.split(' ')[0]))"
      ],
      "metadata": {
        "id": "kMjFFkZlef2X"
      },
      "execution_count": null,
      "outputs": []
    },
    {
      "cell_type": "code",
      "source": [
        "data_set['size'].unique()"
      ],
      "metadata": {
        "colab": {
          "base_uri": "https://localhost:8080/"
        },
        "id": "SobxiNh8tkjQ",
        "outputId": "e999e309-277b-44f5-a33f-aeb501e8092f"
      },
      "execution_count": null,
      "outputs": [
        {
          "output_type": "execute_result",
          "data": {
            "text/plain": [
              "array([ 2.,  4.,  3.,  1.,  6.,  8.,  7.,  5., 11.,  9., 27., 43., 14.,\n",
              "       12., 10., 13.])"
            ]
          },
          "metadata": {},
          "execution_count": 449
        }
      ]
    },
    {
      "cell_type": "code",
      "source": [
        "plt.figure(figsize=(15,6))\n",
        "data_set['size'].value_counts().plot(kind = 'bar',color = 'r')\n",
        "plt.show()\n"
      ],
      "metadata": {
        "colab": {
          "base_uri": "https://localhost:8080/",
          "height": 403
        },
        "id": "KG-SnhAINiH_",
        "outputId": "f16dbc41-9b40-4f21-8bc0-4b6b06c10280"
      },
      "execution_count": null,
      "outputs": [
        {
          "output_type": "display_data",
          "data": {
            "text/plain": [
              "<Figure size 1080x432 with 1 Axes>"
            ],
            "image/png": "[encoded data removed]"
          },
          "metadata": {}
        }
      ]
    },
    {
      "cell_type": "code",
      "source": [
        "data_set['total_sqft'].unique()"
      ],
      "metadata": {
        "colab": {
          "base_uri": "https://localhost:8080/"
        },
        "id": "4oXdI3lcICs5",
        "outputId": "84752436-0fec-400d-bbc3-762bdc1e1d03"
      },
      "execution_count": null,
      "outputs": [
        {
          "output_type": "execute_result",
          "data": {
            "text/plain": [
              "array(['1056', '2600', '1440', ..., '1133 - 1384', '774', '4689'],\n",
              "      dtype=object)"
            ]
          },
          "metadata": {},
          "execution_count": 451
        }
      ]
    },
    {
      "cell_type": "code",
      "source": [
        "def sqft(x):\n",
        "     temp = x.split('-')\n",
        "     if len(temp)==2:\n",
        "        return (float(temp[0]) + float(temp[1]))/2\n",
        "     try:\n",
        "        return float(x)\n",
        "     except :\n",
        "        return None"
      ],
      "metadata": {
        "id": "rb-UzGe4IMzx"
      },
      "execution_count": null,
      "outputs": []
    },
    {
      "cell_type": "code",
      "source": [
        "data_set[\"total_sqft\"] = data_set[\"total_sqft\"].apply(sqft)"
      ],
      "metadata": {
        "id": "lv7ycw2sQddp"
      },
      "execution_count": null,
      "outputs": []
    },
    {
      "cell_type": "code",
      "source": [
        "data_set=data_set.dropna()"
      ],
      "metadata": {
        "id": "5qZtlrVwpieG"
      },
      "execution_count": null,
      "outputs": []
    },
    {
      "cell_type": "markdown",
      "source": [
        " ***The formula for calculating price per square foot at the most basic level: Take the home’s price and divide it by the home’s square footage. The price per square foot tends to be higher for smaller houses, and lower for larger houses.***"
      ],
      "metadata": {
        "id": "SJosVIGVydoN"
      }
    },
    {
      "cell_type": "code",
      "source": [
        "\n",
        "data_set['price_per_sqft'] = data_set['price']*1000000/data_set['total_sqft']"
      ],
      "metadata": {
        "id": "5ZiA5rc5qVBF",
        "colab": {
          "base_uri": "https://localhost:8080/"
        },
        "outputId": "4d7fbec1-e95e-457a-c97f-5ca5ef6b3efc"
      },
      "execution_count": null,
      "outputs": [
        {
          "output_type": "stream",
          "name": "stderr",
          "text": [
            "/usr/local/lib/python3.7/dist-packages/ipykernel_launcher.py:1: SettingWithCopyWarning: \n",
            "A value is trying to be set on a copy of a slice from a DataFrame.\n",
            "Try using .loc[row_indexer,col_indexer] = value instead\n",
            "\n",
            "See the caveats in the documentation: https://pandas.pydata.org/pandas-docs/stable/user_guide/indexing.html#returning-a-view-versus-a-copy\n",
            "  \"\"\"Entry point for launching an IPython kernel.\n"
          ]
        }
      ]
    },
    {
      "cell_type": "code",
      "source": [
        "data_set"
      ],
      "metadata": {
        "colab": {
          "base_uri": "https://localhost:8080/",
          "height": 424
        },
        "id": "0y-DaNUJhoKt",
        "outputId": "973b3f52-1d8a-42f2-d8f9-2a645b4b108c"
      },
      "execution_count": null,
      "outputs": [
        {
          "output_type": "execute_result",
          "data": {
            "text/plain": [
              "                  area_type   availability                  location  size  \\\n",
              "0      Super built-up  Area         16-Jan  Electronic City Phase II   2.0   \n",
              "1                Plot  Area         17-Jan          Chikka Tirupathi   4.0   \n",
              "2            Built-up  Area         18-Jan               Uttarahalli   3.0   \n",
              "3      Super built-up  Area         18-Jan        Lingadheeranahalli   3.0   \n",
              "4      Super built-up  Area         18-Jan                  Kothanur   2.0   \n",
              "...                     ...            ...                       ...   ...   \n",
              "13314  Super built-up  Area  Ready To Move         Green Glen Layout   3.0   \n",
              "13315        Built-up  Area  Ready To Move                Whitefield   5.0   \n",
              "13317        Built-up  Area  Ready To Move     Raja Rajeshwari Nagar   2.0   \n",
              "13318  Super built-up  Area  Ready To Move           Padmanabhanagar   4.0   \n",
              "13319  Super built-up  Area  Ready To Move              Doddathoguru   1.0   \n",
              "\n",
              "       total_sqft  bath  balcony   price  price_per_sqft  \n",
              "0          1056.0   2.0      1.0   39.07    36998.106061  \n",
              "1          2600.0   5.0      3.0  120.00    46153.846154  \n",
              "2          1440.0   2.0      3.0   62.00    43055.555556  \n",
              "3          1521.0   3.0      1.0   95.00    62458.908613  \n",
              "4          1200.0   2.0      1.0   51.00    42500.000000  \n",
              "...           ...   ...      ...     ...             ...  \n",
              "13314      1715.0   3.0      3.0  112.00    65306.122449  \n",
              "13315      3453.0   4.0      0.0  231.00    66898.349262  \n",
              "13317      1141.0   2.0      1.0   60.00    52585.451358  \n",
              "13318      4689.0   4.0      1.0  488.00   104073.363190  \n",
              "13319       550.0   1.0      1.0   17.00    30909.090909  \n",
              "\n",
              "[12668 rows x 9 columns]"
            ],
            "text/html": [
              "\n",
              "  <div id=\"df-adef853f-52d6-4559-871b-28687f754596\">\n",
              "    <div class=\"colab-df-container\">\n",
              "      <div>\n",
              "<style scoped>\n",
              "    .dataframe tbody tr th:only-of-type {\n",
              "        vertical-align: middle;\n",
              "    }\n",
              "\n",
              "    .dataframe tbody tr th {\n",
              "        vertical-align: top;\n",
              "    }\n",
              "\n",
              "    .dataframe thead th {\n",
              "        text-align: right;\n",
              "    }\n",
              "</style>\n",
              "<table border=\"1\" class=\"dataframe\">\n",
              "  <thead>\n",
              "    <tr style=\"text-align: right;\">\n",
              "      <th></th>\n",
              "      <th>area_type</th>\n",
              "      <th>availability</th>\n",
              "      <th>location</th>\n",
              "      <th>size</th>\n",
              "      <th>total_sqft</th>\n",
              "      <th>bath</th>\n",
              "      <th>balcony</th>\n",
              "      <th>price</th>\n",
              "      <th>price_per_sqft</th>\n",
              "    </tr>\n",
              "  </thead>\n",
              "  <tbody>\n",
              "    <tr>\n",
              "      <th>0</th>\n",
              "      <td>Super built-up  Area</td>\n",
              "      <td>16-Jan</td>\n",
              "      <td>Electronic City Phase II</td>\n",
              "      <td>2.0</td>\n",
              "      <td>1056.0</td>\n",
              "      <td>2.0</td>\n",
              "      <td>1.0</td>\n",
              "      <td>39.07</td>\n",
              "      <td>36998.106061</td>\n",
              "    </tr>\n",
              "    <tr>\n",
              "      <th>1</th>\n",
              "      <td>Plot  Area</td>\n",
              "      <td>17-Jan</td>\n",
              "      <td>Chikka Tirupathi</td>\n",
              "      <td>4.0</td>\n",
              "      <td>2600.0</td>\n",
              "      <td>5.0</td>\n",
              "      <td>3.0</td>\n",
              "      <td>120.00</td>\n",
              "      <td>46153.846154</td>\n",
              "    </tr>\n",
              "    <tr>\n",
              "      <th>2</th>\n",
              "      <td>Built-up  Area</td>\n",
              "      <td>18-Jan</td>\n",
              "      <td>Uttarahalli</td>\n",
              "      <td>3.0</td>\n",
              "      <td>1440.0</td>\n",
              "      <td>2.0</td>\n",
              "      <td>3.0</td>\n",
              "      <td>62.00</td>\n",
              "      <td>43055.555556</td>\n",
              "    </tr>\n",
              "    <tr>\n",
              "      <th>3</th>\n",
              "      <td>Super built-up  Area</td>\n",
              "      <td>18-Jan</td>\n",
              "      <td>Lingadheeranahalli</td>\n",
              "      <td>3.0</td>\n",
              "      <td>1521.0</td>\n",
              "      <td>3.0</td>\n",
              "      <td>1.0</td>\n",
              "      <td>95.00</td>\n",
              "      <td>62458.908613</td>\n",
              "    </tr>\n",
              "    <tr>\n",
              "      <th>4</th>\n",
              "      <td>Super built-up  Area</td>\n",
              "      <td>18-Jan</td>\n",
              "      <td>Kothanur</td>\n",
              "      <td>2.0</td>\n",
              "      <td>1200.0</td>\n",
              "      <td>2.0</td>\n",
              "      <td>1.0</td>\n",
              "      <td>51.00</td>\n",
              "      <td>42500.000000</td>\n",
              "    </tr>\n",
              "    <tr>\n",
              "      <th>...</th>\n",
              "      <td>...</td>\n",
              "      <td>...</td>\n",
              "      <td>...</td>\n",
              "      <td>...</td>\n",
              "      <td>...</td>\n",
              "      <td>...</td>\n",
              "      <td>...</td>\n",
              "      <td>...</td>\n",
              "      <td>...</td>\n",
              "    </tr>\n",
              "    <tr>\n",
              "      <th>13314</th>\n",
              "      <td>Super built-up  Area</td>\n",
              "      <td>Ready To Move</td>\n",
              "      <td>Green Glen Layout</td>\n",
              "      <td>3.0</td>\n",
              "      <td>1715.0</td>\n",
              "      <td>3.0</td>\n",
              "      <td>3.0</td>\n",
              "      <td>112.00</td>\n",
              "      <td>65306.122449</td>\n",
              "    </tr>\n",
              "    <tr>\n",
              "      <th>13315</th>\n",
              "      <td>Built-up  Area</td>\n",
              "      <td>Ready To Move</td>\n",
              "      <td>Whitefield</td>\n",
              "      <td>5.0</td>\n",
              "      <td>3453.0</td>\n",
              "      <td>4.0</td>\n",
              "      <td>0.0</td>\n",
              "      <td>231.00</td>\n",
              "      <td>66898.349262</td>\n",
              "    </tr>\n",
              "    <tr>\n",
              "      <th>13317</th>\n",
              "      <td>Built-up  Area</td>\n",
              "      <td>Ready To Move</td>\n",
              "      <td>Raja Rajeshwari Nagar</td>\n",
              "      <td>2.0</td>\n",
              "      <td>1141.0</td>\n",
              "      <td>2.0</td>\n",
              "      <td>1.0</td>\n",
              "      <td>60.00</td>\n",
              "      <td>52585.451358</td>\n",
              "    </tr>\n",
              "    <tr>\n",
              "      <th>13318</th>\n",
              "      <td>Super built-up  Area</td>\n",
              "      <td>Ready To Move</td>\n",
              "      <td>Padmanabhanagar</td>\n",
              "      <td>4.0</td>\n",
              "      <td>4689.0</td>\n",
              "      <td>4.0</td>\n",
              "      <td>1.0</td>\n",
              "      <td>488.00</td>\n",
              "      <td>104073.363190</td>\n",
              "    </tr>\n",
              "    <tr>\n",
              "      <th>13319</th>\n",
              "      <td>Super built-up  Area</td>\n",
              "      <td>Ready To Move</td>\n",
              "      <td>Doddathoguru</td>\n",
              "      <td>1.0</td>\n",
              "      <td>550.0</td>\n",
              "      <td>1.0</td>\n",
              "      <td>1.0</td>\n",
              "      <td>17.00</td>\n",
              "      <td>30909.090909</td>\n",
              "    </tr>\n",
              "  </tbody>\n",
              "</table>\n",
              "<p>12668 rows × 9 columns</p>\n",
              "</div>\n",
              "      <button class=\"colab-df-convert\" onclick=\"convertToInteractive('df-adef853f-52d6-4559-871b-28687f754596')\"\n",
              "              title=\"Convert this dataframe to an interactive table.\"\n",
              "              style=\"display:none;\">\n",
              "        \n",
              "  <svg xmlns=\"http://www.w3.org/2000/svg\" height=\"24px\"viewBox=\"0 0 24 24\"\n",
              "       width=\"24px\">\n",
              "    <path d=\"M0 0h24v24H0V0z\" fill=\"none\"/>\n",
              "    <path d=\"M18.56 5.44l.94 2.06.94-2.06 2.06-.94-2.06-.94-.94-2.06-.94 2.06-2.06.94zm-11 1L8.5 8.5l.94-2.06 2.06-.94-2.06-.94L8.5 2.5l-.94 2.06-2.06.94zm10 10l.94 2.06.94-2.06 2.06-.94-2.06-.94-.94-2.06-.94 2.06-2.06.94z\"/><path d=\"M17.41 7.96l-1.37-1.37c-.4-.4-.92-.59-1.43-.59-.52 0-1.04.2-1.43.59L10.3 9.45l-7.72 7.72c-.78.78-.78 2.05 0 2.83L4 21.41c.39.39.9.59 1.41.59.51 0 1.02-.2 1.41-.59l7.78-7.78 2.81-2.81c.8-.78.8-2.07 0-2.86zM5.41 20L4 18.59l7.72-7.72 1.47 1.35L5.41 20z\"/>\n",
              "  </svg>\n",
              "      </button>\n",
              "      \n",
              "  <style>\n",
              "    .colab-df-container {\n",
              "      display:flex;\n",
              "      flex-wrap:wrap;\n",
              "      gap: 12px;\n",
              "    }\n",
              "\n",
              "    .colab-df-convert {\n",
              "      background-color: #E8F0FE;\n",
              "      border: none;\n",
              "      border-radius: 50%;\n",
              "      cursor: pointer;\n",
              "      display: none;\n",
              "      fill: #1967D2;\n",
              "      height: 32px;\n",
              "      padding: 0 0 0 0;\n",
              "      width: 32px;\n",
              "    }\n",
              "\n",
              "    .colab-df-convert:hover {\n",
              "      background-color: #E2EBFA;\n",
              "      box-shadow: 0px 1px 2px rgba(60, 64, 67, 0.3), 0px 1px 3px 1px rgba(60, 64, 67, 0.15);\n",
              "      fill: #174EA6;\n",
              "    }\n",
              "\n",
              "    [theme=dark] .colab-df-convert {\n",
              "      background-color: #3B4455;\n",
              "      fill: #D2E3FC;\n",
              "    }\n",
              "\n",
              "    [theme=dark] .colab-df-convert:hover {\n",
              "      background-color: #434B5C;\n",
              "      box-shadow: 0px 1px 3px 1px rgba(0, 0, 0, 0.15);\n",
              "      filter: drop-shadow(0px 1px 2px rgba(0, 0, 0, 0.3));\n",
              "      fill: #FFFFFF;\n",
              "    }\n",
              "  </style>\n",
              "\n",
              "      <script>\n",
              "        const buttonEl =\n",
              "          document.querySelector('#df-adef853f-52d6-4559-871b-28687f754596 button.colab-df-convert');\n",
              "        buttonEl.style.display =\n",
              "          google.colab.kernel.accessAllowed ? 'block' : 'none';\n",
              "\n",
              "        async function convertToInteractive(key) {\n",
              "          const element = document.querySelector('#df-adef853f-52d6-4559-871b-28687f754596');\n",
              "          const dataTable =\n",
              "            await google.colab.kernel.invokeFunction('convertToInteractive',\n",
              "                                                     [key], {});\n",
              "          if (!dataTable) return;\n",
              "\n",
              "          const docLinkHtml = 'Like what you see? Visit the ' +\n",
              "            '<a target=\"_blank\" href=https://colab.research.google.com/notebooks/data_table.ipynb>data table notebook</a>'\n",
              "            + ' to learn more about interactive tables.';\n",
              "          element.innerHTML = '';\n",
              "          dataTable['output_type'] = 'display_data';\n",
              "          await google.colab.output.renderOutput(dataTable, element);\n",
              "          const docLink = document.createElement('div');\n",
              "          docLink.innerHTML = docLinkHtml;\n",
              "          element.appendChild(docLink);\n",
              "        }\n",
              "      </script>\n",
              "    </div>\n",
              "  </div>\n",
              "  "
            ]
          },
          "metadata": {},
          "execution_count": 457
        }
      ]
    },
    {
      "cell_type": "code",
      "source": [
        "data_set.describe()"
      ],
      "metadata": {
        "colab": {
          "base_uri": "https://localhost:8080/",
          "height": 301
        },
        "id": "dfB0zB3dxFU6",
        "outputId": "adf24c11-2ae9-486a-a691-61ac36e0143d"
      },
      "execution_count": null,
      "outputs": [
        {
          "output_type": "execute_result",
          "data": {
            "text/plain": [
              "               size    total_sqft          bath       balcony         price  \\\n",
              "count  12668.000000  12668.000000  12668.000000  12668.000000  12668.000000   \n",
              "mean       2.736422   1511.835167      2.616277      1.585649    105.952648   \n",
              "std        1.202643   1162.097276      1.223882      0.816758    131.813137   \n",
              "min        1.000000      5.000000      1.000000      0.000000      8.000000   \n",
              "25%        2.000000   1100.000000      2.000000      1.000000     49.015000   \n",
              "50%        3.000000   1260.000000      2.000000      2.000000     70.000000   \n",
              "75%        3.000000   1640.000000      3.000000      2.000000    115.000000   \n",
              "max       43.000000  52272.000000     40.000000      3.000000   2912.000000   \n",
              "\n",
              "       price_per_sqft  \n",
              "count    1.266800e+04  \n",
              "mean     6.876277e+04  \n",
              "std      2.263354e+05  \n",
              "min      2.678298e+03  \n",
              "25%      4.242721e+04  \n",
              "50%      5.376344e+04  \n",
              "75%      7.142857e+04  \n",
              "max      2.300000e+07  "
            ],
            "text/html": [
              "\n",
              "  <div id=\"df-547b5c2e-d96e-4cd2-89bc-5969bd80bc99\">\n",
              "    <div class=\"colab-df-container\">\n",
              "      <div>\n",
              "<style scoped>\n",
              "    .dataframe tbody tr th:only-of-type {\n",
              "        vertical-align: middle;\n",
              "    }\n",
              "\n",
              "    .dataframe tbody tr th {\n",
              "        vertical-align: top;\n",
              "    }\n",
              "\n",
              "    .dataframe thead th {\n",
              "        text-align: right;\n",
              "    }\n",
              "</style>\n",
              "<table border=\"1\" class=\"dataframe\">\n",
              "  <thead>\n",
              "    <tr style=\"text-align: right;\">\n",
              "      <th></th>\n",
              "      <th>size</th>\n",
              "      <th>total_sqft</th>\n",
              "      <th>bath</th>\n",
              "      <th>balcony</th>\n",
              "      <th>price</th>\n",
              "      <th>price_per_sqft</th>\n",
              "    </tr>\n",
              "  </thead>\n",
              "  <tbody>\n",
              "    <tr>\n",
              "      <th>count</th>\n",
              "      <td>12668.000000</td>\n",
              "      <td>12668.000000</td>\n",
              "      <td>12668.000000</td>\n",
              "      <td>12668.000000</td>\n",
              "      <td>12668.000000</td>\n",
              "      <td>1.266800e+04</td>\n",
              "    </tr>\n",
              "    <tr>\n",
              "      <th>mean</th>\n",
              "      <td>2.736422</td>\n",
              "      <td>1511.835167</td>\n",
              "      <td>2.616277</td>\n",
              "      <td>1.585649</td>\n",
              "      <td>105.952648</td>\n",
              "      <td>6.876277e+04</td>\n",
              "    </tr>\n",
              "    <tr>\n",
              "      <th>std</th>\n",
              "      <td>1.202643</td>\n",
              "      <td>1162.097276</td>\n",
              "      <td>1.223882</td>\n",
              "      <td>0.816758</td>\n",
              "      <td>131.813137</td>\n",
              "      <td>2.263354e+05</td>\n",
              "    </tr>\n",
              "    <tr>\n",
              "      <th>min</th>\n",
              "      <td>1.000000</td>\n",
              "      <td>5.000000</td>\n",
              "      <td>1.000000</td>\n",
              "      <td>0.000000</td>\n",
              "      <td>8.000000</td>\n",
              "      <td>2.678298e+03</td>\n",
              "    </tr>\n",
              "    <tr>\n",
              "      <th>25%</th>\n",
              "      <td>2.000000</td>\n",
              "      <td>1100.000000</td>\n",
              "      <td>2.000000</td>\n",
              "      <td>1.000000</td>\n",
              "      <td>49.015000</td>\n",
              "      <td>4.242721e+04</td>\n",
              "    </tr>\n",
              "    <tr>\n",
              "      <th>50%</th>\n",
              "      <td>3.000000</td>\n",
              "      <td>1260.000000</td>\n",
              "      <td>2.000000</td>\n",
              "      <td>2.000000</td>\n",
              "      <td>70.000000</td>\n",
              "      <td>5.376344e+04</td>\n",
              "    </tr>\n",
              "    <tr>\n",
              "      <th>75%</th>\n",
              "      <td>3.000000</td>\n",
              "      <td>1640.000000</td>\n",
              "      <td>3.000000</td>\n",
              "      <td>2.000000</td>\n",
              "      <td>115.000000</td>\n",
              "      <td>7.142857e+04</td>\n",
              "    </tr>\n",
              "    <tr>\n",
              "      <th>max</th>\n",
              "      <td>43.000000</td>\n",
              "      <td>52272.000000</td>\n",
              "      <td>40.000000</td>\n",
              "      <td>3.000000</td>\n",
              "      <td>2912.000000</td>\n",
              "      <td>2.300000e+07</td>\n",
              "    </tr>\n",
              "  </tbody>\n",
              "</table>\n",
              "</div>\n",
              "      <button class=\"colab-df-convert\" onclick=\"convertToInteractive('df-547b5c2e-d96e-4cd2-89bc-5969bd80bc99')\"\n",
              "              title=\"Convert this dataframe to an interactive table.\"\n",
              "              style=\"display:none;\">\n",
              "        \n",
              "  <svg xmlns=\"http://www.w3.org/2000/svg\" height=\"24px\"viewBox=\"0 0 24 24\"\n",
              "       width=\"24px\">\n",
              "    <path d=\"M0 0h24v24H0V0z\" fill=\"none\"/>\n",
              "    <path d=\"M18.56 5.44l.94 2.06.94-2.06 2.06-.94-2.06-.94-.94-2.06-.94 2.06-2.06.94zm-11 1L8.5 8.5l.94-2.06 2.06-.94-2.06-.94L8.5 2.5l-.94 2.06-2.06.94zm10 10l.94 2.06.94-2.06 2.06-.94-2.06-.94-.94-2.06-.94 2.06-2.06.94z\"/><path d=\"M17.41 7.96l-1.37-1.37c-.4-.4-.92-.59-1.43-.59-.52 0-1.04.2-1.43.59L10.3 9.45l-7.72 7.72c-.78.78-.78 2.05 0 2.83L4 21.41c.39.39.9.59 1.41.59.51 0 1.02-.2 1.41-.59l7.78-7.78 2.81-2.81c.8-.78.8-2.07 0-2.86zM5.41 20L4 18.59l7.72-7.72 1.47 1.35L5.41 20z\"/>\n",
              "  </svg>\n",
              "      </button>\n",
              "      \n",
              "  <style>\n",
              "    .colab-df-container {\n",
              "      display:flex;\n",
              "      flex-wrap:wrap;\n",
              "      gap: 12px;\n",
              "    }\n",
              "\n",
              "    .colab-df-convert {\n",
              "      background-color: #E8F0FE;\n",
              "      border: none;\n",
              "      border-radius: 50%;\n",
              "      cursor: pointer;\n",
              "      display: none;\n",
              "      fill: #1967D2;\n",
              "      height: 32px;\n",
              "      padding: 0 0 0 0;\n",
              "      width: 32px;\n",
              "    }\n",
              "\n",
              "    .colab-df-convert:hover {\n",
              "      background-color: #E2EBFA;\n",
              "      box-shadow: 0px 1px 2px rgba(60, 64, 67, 0.3), 0px 1px 3px 1px rgba(60, 64, 67, 0.15);\n",
              "      fill: #174EA6;\n",
              "    }\n",
              "\n",
              "    [theme=dark] .colab-df-convert {\n",
              "      background-color: #3B4455;\n",
              "      fill: #D2E3FC;\n",
              "    }\n",
              "\n",
              "    [theme=dark] .colab-df-convert:hover {\n",
              "      background-color: #434B5C;\n",
              "      box-shadow: 0px 1px 3px 1px rgba(0, 0, 0, 0.15);\n",
              "      filter: drop-shadow(0px 1px 2px rgba(0, 0, 0, 0.3));\n",
              "      fill: #FFFFFF;\n",
              "    }\n",
              "  </style>\n",
              "\n",
              "      <script>\n",
              "        const buttonEl =\n",
              "          document.querySelector('#df-547b5c2e-d96e-4cd2-89bc-5969bd80bc99 button.colab-df-convert');\n",
              "        buttonEl.style.display =\n",
              "          google.colab.kernel.accessAllowed ? 'block' : 'none';\n",
              "\n",
              "        async function convertToInteractive(key) {\n",
              "          const element = document.querySelector('#df-547b5c2e-d96e-4cd2-89bc-5969bd80bc99');\n",
              "          const dataTable =\n",
              "            await google.colab.kernel.invokeFunction('convertToInteractive',\n",
              "                                                     [key], {});\n",
              "          if (!dataTable) return;\n",
              "\n",
              "          const docLinkHtml = 'Like what you see? Visit the ' +\n",
              "            '<a target=\"_blank\" href=https://colab.research.google.com/notebooks/data_table.ipynb>data table notebook</a>'\n",
              "            + ' to learn more about interactive tables.';\n",
              "          element.innerHTML = '';\n",
              "          dataTable['output_type'] = 'display_data';\n",
              "          await google.colab.output.renderOutput(dataTable, element);\n",
              "          const docLink = document.createElement('div');\n",
              "          docLink.innerHTML = docLinkHtml;\n",
              "          element.appendChild(docLink);\n",
              "        }\n",
              "      </script>\n",
              "    </div>\n",
              "  </div>\n",
              "  "
            ]
          },
          "metadata": {},
          "execution_count": 458
        }
      ]
    },
    {
      "cell_type": "code",
      "source": [
        "plt.figure(figsize=(20,10))\n",
        "sns.barplot(x='size', y = 'price_per_sqft',data = data_set)"
      ],
      "metadata": {
        "id": "t6Gggn7eyvSR",
        "colab": {
          "base_uri": "https://localhost:8080/",
          "height": 641
        },
        "outputId": "59188e0f-7e83-4447-9aec-3778ff197792"
      },
      "execution_count": null,
      "outputs": [
        {
          "output_type": "execute_result",
          "data": {
            "text/plain": [
              "<matplotlib.axes._subplots.AxesSubplot at 0x7f38ba711f90>"
            ]
          },
          "metadata": {},
          "execution_count": 459
        },
        {
          "output_type": "display_data",
          "data": {
            "text/plain": [
              "<Figure size 1440x720 with 1 Axes>"
            ],
            "image/png": "[encoded data removed]"
          },
          "metadata": {}
        }
      ]
    },
    {
      "cell_type": "code",
      "source": [
        "plt.figure(figsize=(20,10))\n",
        "sns.barplot(x='area_type', y ='price_per_sqft',data = data_set)"
      ],
      "metadata": {
        "colab": {
          "base_uri": "https://localhost:8080/",
          "height": 641
        },
        "id": "SEwO5XD0-ksT",
        "outputId": "64628b1f-0471-469d-bae4-8bbb539ff181"
      },
      "execution_count": null,
      "outputs": [
        {
          "output_type": "execute_result",
          "data": {
            "text/plain": [
              "<matplotlib.axes._subplots.AxesSubplot at 0x7f38ba3ea0d0>"
            ]
          },
          "metadata": {},
          "execution_count": 460
        },
        {
          "output_type": "display_data",
          "data": {
            "text/plain": [
              "<Figure size 1440x720 with 1 Axes>"
            ],
            "image/png": "[encoded data removed]"
          },
          "metadata": {}
        }
      ]
    },
    {
      "cell_type": "code",
      "source": [
        "plt.figure(figsize=(15,10))\n",
        "\n",
        "# Seaborn color palette to plot pie chart\n",
        "colors = sns.color_palette('bright')\n",
        "explode = [0.2, 0, 0, 0]\n",
        "label=['Super built-up  Area','Carpet  Area','Plot  Area','Built-up  Area']\n",
        "sns.set(font_scale=1.5)\n",
        "\n",
        "# create pie chart using matplotlib\n",
        "plt.pie(data_set['area_type'].value_counts(), labels=label, colors=colors,\n",
        "        autopct='%0.0f%%',explode=explode,shadow=True, rotatelabels=True)\n",
        "plt.title('Area Type Value',color='r')\n",
        "plt.show()\n"
      ],
      "metadata": {
        "colab": {
          "base_uri": "https://localhost:8080/",
          "height": 771
        },
        "id": "aTcg-WI7PO5x",
        "outputId": "2840c73c-d8a2-4ac7-ca6e-77e714abc0b0"
      },
      "execution_count": null,
      "outputs": [
        {
          "output_type": "display_data",
          "data": {
            "text/plain": [
              "<Figure size 1080x720 with 1 Axes>"
            ],
            "image/png": "[encoded data removed]"
          },
          "metadata": {}
        }
      ]
    },
    {
      "cell_type": "code",
      "source": [
        "data_set['bath'].value_counts()"
      ],
      "metadata": {
        "colab": {
          "base_uri": "https://localhost:8080/"
        },
        "id": "xXBXsNCbWuoA",
        "outputId": "2ecbe74b-74ba-4ad3-8dea-c42d5cf6486a"
      },
      "execution_count": null,
      "outputs": [
        {
          "output_type": "execute_result",
          "data": {
            "text/plain": [
              "2.0     6820\n",
              "3.0     3134\n",
              "4.0     1105\n",
              "1.0      779\n",
              "5.0      428\n",
              "6.0      240\n",
              "7.0       82\n",
              "8.0       42\n",
              "9.0       26\n",
              "10.0       6\n",
              "27.0       1\n",
              "11.0       1\n",
              "12.0       1\n",
              "40.0       1\n",
              "15.0       1\n",
              "13.0       1\n",
              "Name: bath, dtype: int64"
            ]
          },
          "metadata": {},
          "execution_count": 462
        }
      ]
    },
    {
      "cell_type": "code",
      "source": [
        "plt.figure(figsize=(15,6))\n",
        "data_set['bath'].value_counts().plot(kind = 'bar',color = 'orange')\n",
        "plt.show()"
      ],
      "metadata": {
        "colab": {
          "base_uri": "https://localhost:8080/",
          "height": 403
        },
        "id": "Czwg_DfyXOtF",
        "outputId": "125e84a9-a6f3-4312-e0cc-5819ad889839"
      },
      "execution_count": null,
      "outputs": [
        {
          "output_type": "display_data",
          "data": {
            "text/plain": [
              "<Figure size 1080x432 with 1 Axes>"
            ],
            "image/png": "[encoded data removed]"
          },
          "metadata": {}
        }
      ]
    },
    {
      "cell_type": "code",
      "source": [
        "data_set['location'] = data_set['location'].apply(lambda x : x.strip())\n",
        "location_count = data_set['location'].value_counts()"
      ],
      "metadata": {
        "id": "JQO6ELAPZjNE"
      },
      "execution_count": null,
      "outputs": []
    },
    {
      "cell_type": "code",
      "source": [
        "location_count"
      ],
      "metadata": {
        "colab": {
          "base_uri": "https://localhost:8080/"
        },
        "id": "ZNnlLWixdB55",
        "outputId": "246bb1ca-66e0-4493-be8a-15839021d0fd"
      },
      "execution_count": null,
      "outputs": [
        {
          "output_type": "execute_result",
          "data": {
            "text/plain": [
              "Whitefield           514\n",
              "Sarjapur  Road       372\n",
              "Electronic City      302\n",
              "Kanakpura Road       259\n",
              "Thanisandra          233\n",
              "                    ... \n",
              "Subbannaiah Palya      1\n",
              "whitefiled             1\n",
              "Medi Agrahara          1\n",
              "Sadduguntepalya        1\n",
              "Abshot Layout          1\n",
              "Name: location, Length: 1248, dtype: int64"
            ]
          },
          "metadata": {},
          "execution_count": 465
        }
      ]
    },
    {
      "cell_type": "code",
      "source": [
        "locationlessthan10=location_count[location_count<=10]\n",
        "locationlessthan10"
      ],
      "metadata": {
        "colab": {
          "base_uri": "https://localhost:8080/"
        },
        "id": "3qKo3nqo6oh-",
        "outputId": "70062fc7-29d3-4fec-f56a-805a22da691c"
      },
      "execution_count": null,
      "outputs": [
        {
          "output_type": "execute_result",
          "data": {
            "text/plain": [
              "1st Block Koramangala    10\n",
              "Gunjur Palya             10\n",
              "Kalkere                  10\n",
              "Nagappa Reddy Layout     10\n",
              "Dairy Circle             10\n",
              "                         ..\n",
              "Subbannaiah Palya         1\n",
              "whitefiled                1\n",
              "Medi Agrahara             1\n",
              "Sadduguntepalya           1\n",
              "Abshot Layout             1\n",
              "Name: location, Length: 1013, dtype: int64"
            ]
          },
          "metadata": {},
          "execution_count": 466
        }
      ]
    },
    {
      "cell_type": "code",
      "source": [
        "len(data_set.location.unique())"
      ],
      "metadata": {
        "colab": {
          "base_uri": "https://localhost:8080/"
        },
        "id": "seH00j8E7R-6",
        "outputId": "3687027e-195c-41a7-ef44-5d1879e0e5d9"
      },
      "execution_count": null,
      "outputs": [
        {
          "output_type": "execute_result",
          "data": {
            "text/plain": [
              "1248"
            ]
          },
          "metadata": {},
          "execution_count": 467
        }
      ]
    },
    {
      "cell_type": "code",
      "source": [
        "data_set.location=data_set.location.apply(lambda x: 'other' if x in locationlessthan10 else x)\n",
        "len(data_set.location.unique())"
      ],
      "metadata": {
        "colab": {
          "base_uri": "https://localhost:8080/"
        },
        "id": "BUkNhfb38zEc",
        "outputId": "4f0854de-21da-40e4-b6c2-4e49862dac88"
      },
      "execution_count": null,
      "outputs": [
        {
          "output_type": "execute_result",
          "data": {
            "text/plain": [
              "236"
            ]
          },
          "metadata": {},
          "execution_count": 468
        }
      ]
    },
    {
      "cell_type": "code",
      "source": [
        "plt.figure(figsize=(15,6))\n",
        "sns.heatmap(data_set.corr(),cmap='Blues',annot=True)"
      ],
      "metadata": {
        "colab": {
          "base_uri": "https://localhost:8080/",
          "height": 409
        },
        "id": "ioWC70CLfJBe",
        "outputId": "b9d4acf0-8717-4edb-a91b-018a03e79578"
      },
      "execution_count": null,
      "outputs": [
        {
          "output_type": "execute_result",
          "data": {
            "text/plain": [
              "<matplotlib.axes._subplots.AxesSubplot at 0x7f38ba2913d0>"
            ]
          },
          "metadata": {},
          "execution_count": 469
        },
        {
          "output_type": "display_data",
          "data": {
            "text/plain": [
              "<Figure size 1080x432 with 2 Axes>"
            ],
            "image/png": "[encoded data removed]"
          },
          "metadata": {}
        }
      ]
    },
    {
      "cell_type": "code",
      "source": [
        "data_set.corr()['price']"
      ],
      "metadata": {
        "colab": {
          "base_uri": "https://localhost:8080/"
        },
        "id": "K9zXAN96fuIV",
        "outputId": "46b65d2e-d560-4cb2-a900-d6c46a6bdadf"
      },
      "execution_count": null,
      "outputs": [
        {
          "output_type": "execute_result",
          "data": {
            "text/plain": [
              "size              0.406645\n",
              "total_sqft        0.558555\n",
              "bath              0.459320\n",
              "balcony           0.120407\n",
              "price             1.000000\n",
              "price_per_sqft    0.126068\n",
              "Name: price, dtype: float64"
            ]
          },
          "metadata": {},
          "execution_count": 470
        }
      ]
    },
    {
      "cell_type": "code",
      "source": [
        "data_set.corr()['price'].plot(kind = 'bar')\n",
        "plt.show()"
      ],
      "metadata": {
        "colab": {
          "base_uri": "https://localhost:8080/",
          "height": 374
        },
        "id": "qJuQqUIlgMfk",
        "outputId": "108c78f4-2c1f-4d80-f9eb-016e01983e77"
      },
      "execution_count": null,
      "outputs": [
        {
          "output_type": "display_data",
          "data": {
            "text/plain": [
              "<Figure size 432x288 with 1 Axes>"
            ],
            "image/png": "[encoded data removed]"
          },
          "metadata": {}
        }
      ]
    },
    {
      "cell_type": "code",
      "source": [
        "data_set.columns"
      ],
      "metadata": {
        "colab": {
          "base_uri": "https://localhost:8080/"
        },
        "id": "vg7wlglHpTvY",
        "outputId": "b044cd4e-c0bb-4ba3-d7a5-35ca2c5c7db5"
      },
      "execution_count": null,
      "outputs": [
        {
          "output_type": "execute_result",
          "data": {
            "text/plain": [
              "Index(['area_type', 'availability', 'location', 'size', 'total_sqft', 'bath',\n",
              "       'balcony', 'price', 'price_per_sqft'],\n",
              "      dtype='object')"
            ]
          },
          "metadata": {},
          "execution_count": 472
        }
      ]
    },
    {
      "cell_type": "markdown",
      "source": [
        "# **Detecting and Removal of outliers**"
      ],
      "metadata": {
        "id": "BTND8oDnhJKd"
      }
    },
    {
      "cell_type": "code",
      "source": [
        "df=data_set.copy()\n",
        "df.drop([ 'availability','price_per_sqft' ,'balcony'],axis=1,inplace=True)\n"
      ],
      "metadata": {
        "id": "8p4CM35en90M"
      },
      "execution_count": null,
      "outputs": []
    },
    {
      "cell_type": "code",
      "source": [
        "df.info()"
      ],
      "metadata": {
        "colab": {
          "base_uri": "https://localhost:8080/"
        },
        "id": "y0MzfxvenDCY",
        "outputId": "bbba8ff1-c791-46e6-9fb9-e68e45f544ac"
      },
      "execution_count": null,
      "outputs": [
        {
          "output_type": "stream",
          "name": "stdout",
          "text": [
            "<class 'pandas.core.frame.DataFrame'>\n",
            "Int64Index: 12668 entries, 0 to 13319\n",
            "Data columns (total 6 columns):\n",
            " #   Column      Non-Null Count  Dtype  \n",
            "---  ------      --------------  -----  \n",
            " 0   area_type   12668 non-null  object \n",
            " 1   location    12668 non-null  object \n",
            " 2   size        12668 non-null  float64\n",
            " 3   total_sqft  12668 non-null  float64\n",
            " 4   bath        12668 non-null  float64\n",
            " 5   price       12668 non-null  float64\n",
            "dtypes: float64(4), object(2)\n",
            "memory usage: 1.2+ MB\n"
          ]
        }
      ]
    },
    {
      "cell_type": "code",
      "source": [
        "fig, ax = plt.subplots(ncols=2, nrows=2, figsize=(20,10))\n",
        "index = 0\n",
        "ax = ax.flatten()\n",
        "for i in ['size','total_sqft','bath','price']:\n",
        "\n",
        "      sns.boxplot(x= i,data=df,ax=ax[index],fliersize=True)\n",
        "      index += 1\n",
        "plt.tight_layout(pad=0.5, w_pad=0.7, h_pad=5.0)"
      ],
      "metadata": {
        "id": "0K0nIjcXguET",
        "colab": {
          "base_uri": "https://localhost:8080/",
          "height": 716
        },
        "outputId": "35fa5f38-c667-4616-f114-99fbf4f6304c"
      },
      "execution_count": null,
      "outputs": [
        {
          "output_type": "display_data",
          "data": {
            "text/plain": [
              "<Figure size 1440x720 with 4 Axes>"
            ],
            "image/png": "[encoded data removed]"
          },
          "metadata": {}
        }
      ]
    },
    {
      "cell_type": "code",
      "source": [
        "df[(df.total_sqft/df.size<300)].head()"
      ],
      "metadata": {
        "colab": {
          "base_uri": "https://localhost:8080/",
          "height": 206
        },
        "id": "NIUTw4G3Xm5F",
        "outputId": "4ee3783e-3df5-4922-9c44-6233c1a2cd79"
      },
      "execution_count": null,
      "outputs": [
        {
          "output_type": "execute_result",
          "data": {
            "text/plain": [
              "              area_type                  location  size  total_sqft  bath  \\\n",
              "0  Super built-up  Area  Electronic City Phase II   2.0      1056.0   2.0   \n",
              "1            Plot  Area          Chikka Tirupathi   4.0      2600.0   5.0   \n",
              "2        Built-up  Area               Uttarahalli   3.0      1440.0   2.0   \n",
              "3  Super built-up  Area        Lingadheeranahalli   3.0      1521.0   3.0   \n",
              "4  Super built-up  Area                  Kothanur   2.0      1200.0   2.0   \n",
              "\n",
              "    price  \n",
              "0   39.07  \n",
              "1  120.00  \n",
              "2   62.00  \n",
              "3   95.00  \n",
              "4   51.00  "
            ],
            "text/html": [
              "\n",
              "  <div id=\"df-03da1d5e-16cb-40b4-9b77-432fa3bacf1d\">\n",
              "    <div class=\"colab-df-container\">\n",
              "      <div>\n",
              "<style scoped>\n",
              "    .dataframe tbody tr th:only-of-type {\n",
              "        vertical-align: middle;\n",
              "    }\n",
              "\n",
              "    .dataframe tbody tr th {\n",
              "        vertical-align: top;\n",
              "    }\n",
              "\n",
              "    .dataframe thead th {\n",
              "        text-align: right;\n",
              "    }\n",
              "</style>\n",
              "<table border=\"1\" class=\"dataframe\">\n",
              "  <thead>\n",
              "    <tr style=\"text-align: right;\">\n",
              "      <th></th>\n",
              "      <th>area_type</th>\n",
              "      <th>location</th>\n",
              "      <th>size</th>\n",
              "      <th>total_sqft</th>\n",
              "      <th>bath</th>\n",
              "      <th>price</th>\n",
              "    </tr>\n",
              "  </thead>\n",
              "  <tbody>\n",
              "    <tr>\n",
              "      <th>0</th>\n",
              "      <td>Super built-up  Area</td>\n",
              "      <td>Electronic City Phase II</td>\n",
              "      <td>2.0</td>\n",
              "      <td>1056.0</td>\n",
              "      <td>2.0</td>\n",
              "      <td>39.07</td>\n",
              "    </tr>\n",
              "    <tr>\n",
              "      <th>1</th>\n",
              "      <td>Plot  Area</td>\n",
              "      <td>Chikka Tirupathi</td>\n",
              "      <td>4.0</td>\n",
              "      <td>2600.0</td>\n",
              "      <td>5.0</td>\n",
              "      <td>120.00</td>\n",
              "    </tr>\n",
              "    <tr>\n",
              "      <th>2</th>\n",
              "      <td>Built-up  Area</td>\n",
              "      <td>Uttarahalli</td>\n",
              "      <td>3.0</td>\n",
              "      <td>1440.0</td>\n",
              "      <td>2.0</td>\n",
              "      <td>62.00</td>\n",
              "    </tr>\n",
              "    <tr>\n",
              "      <th>3</th>\n",
              "      <td>Super built-up  Area</td>\n",
              "      <td>Lingadheeranahalli</td>\n",
              "      <td>3.0</td>\n",
              "      <td>1521.0</td>\n",
              "      <td>3.0</td>\n",
              "      <td>95.00</td>\n",
              "    </tr>\n",
              "    <tr>\n",
              "      <th>4</th>\n",
              "      <td>Super built-up  Area</td>\n",
              "      <td>Kothanur</td>\n",
              "      <td>2.0</td>\n",
              "      <td>1200.0</td>\n",
              "      <td>2.0</td>\n",
              "      <td>51.00</td>\n",
              "    </tr>\n",
              "  </tbody>\n",
              "</table>\n",
              "</div>\n",
              "      <button class=\"colab-df-convert\" onclick=\"convertToInteractive('df-03da1d5e-16cb-40b4-9b77-432fa3bacf1d')\"\n",
              "              title=\"Convert this dataframe to an interactive table.\"\n",
              "              style=\"display:none;\">\n",
              "        \n",
              "  <svg xmlns=\"http://www.w3.org/2000/svg\" height=\"24px\"viewBox=\"0 0 24 24\"\n",
              "       width=\"24px\">\n",
              "    <path d=\"M0 0h24v24H0V0z\" fill=\"none\"/>\n",
              "    <path d=\"M18.56 5.44l.94 2.06.94-2.06 2.06-.94-2.06-.94-.94-2.06-.94 2.06-2.06.94zm-11 1L8.5 8.5l.94-2.06 2.06-.94-2.06-.94L8.5 2.5l-.94 2.06-2.06.94zm10 10l.94 2.06.94-2.06 2.06-.94-2.06-.94-.94-2.06-.94 2.06-2.06.94z\"/><path d=\"M17.41 7.96l-1.37-1.37c-.4-.4-.92-.59-1.43-.59-.52 0-1.04.2-1.43.59L10.3 9.45l-7.72 7.72c-.78.78-.78 2.05 0 2.83L4 21.41c.39.39.9.59 1.41.59.51 0 1.02-.2 1.41-.59l7.78-7.78 2.81-2.81c.8-.78.8-2.07 0-2.86zM5.41 20L4 18.59l7.72-7.72 1.47 1.35L5.41 20z\"/>\n",
              "  </svg>\n",
              "      </button>\n",
              "      \n",
              "  <style>\n",
              "    .colab-df-container {\n",
              "      display:flex;\n",
              "      flex-wrap:wrap;\n",
              "      gap: 12px;\n",
              "    }\n",
              "\n",
              "    .colab-df-convert {\n",
              "      background-color: #E8F0FE;\n",
              "      border: none;\n",
              "      border-radius: 50%;\n",
              "      cursor: pointer;\n",
              "      display: none;\n",
              "      fill: #1967D2;\n",
              "      height: 32px;\n",
              "      padding: 0 0 0 0;\n",
              "      width: 32px;\n",
              "    }\n",
              "\n",
              "    .colab-df-convert:hover {\n",
              "      background-color: #E2EBFA;\n",
              "      box-shadow: 0px 1px 2px rgba(60, 64, 67, 0.3), 0px 1px 3px 1px rgba(60, 64, 67, 0.15);\n",
              "      fill: #174EA6;\n",
              "    }\n",
              "\n",
              "    [theme=dark] .colab-df-convert {\n",
              "      background-color: #3B4455;\n",
              "      fill: #D2E3FC;\n",
              "    }\n",
              "\n",
              "    [theme=dark] .colab-df-convert:hover {\n",
              "      background-color: #434B5C;\n",
              "      box-shadow: 0px 1px 3px 1px rgba(0, 0, 0, 0.15);\n",
              "      filter: drop-shadow(0px 1px 2px rgba(0, 0, 0, 0.3));\n",
              "      fill: #FFFFFF;\n",
              "    }\n",
              "  </style>\n",
              "\n",
              "      <script>\n",
              "        const buttonEl =\n",
              "          document.querySelector('#df-03da1d5e-16cb-40b4-9b77-432fa3bacf1d button.colab-df-convert');\n",
              "        buttonEl.style.display =\n",
              "          google.colab.kernel.accessAllowed ? 'block' : 'none';\n",
              "\n",
              "        async function convertToInteractive(key) {\n",
              "          const element = document.querySelector('#df-03da1d5e-16cb-40b4-9b77-432fa3bacf1d');\n",
              "          const dataTable =\n",
              "            await google.colab.kernel.invokeFunction('convertToInteractive',\n",
              "                                                     [key], {});\n",
              "          if (!dataTable) return;\n",
              "\n",
              "          const docLinkHtml = 'Like what you see? Visit the ' +\n",
              "            '<a target=\"_blank\" href=https://colab.research.google.com/notebooks/data_table.ipynb>data table notebook</a>'\n",
              "            + ' to learn more about interactive tables.';\n",
              "          element.innerHTML = '';\n",
              "          dataTable['output_type'] = 'display_data';\n",
              "          await google.colab.output.renderOutput(dataTable, element);\n",
              "          const docLink = document.createElement('div');\n",
              "          docLink.innerHTML = docLinkHtml;\n",
              "          element.appendChild(docLink);\n",
              "        }\n",
              "      </script>\n",
              "    </div>\n",
              "  </div>\n",
              "  "
            ]
          },
          "metadata": {},
          "execution_count": 733
        }
      ]
    },
    {
      "cell_type": "code",
      "source": [
        "df['size'].unique()"
      ],
      "metadata": {
        "colab": {
          "base_uri": "https://localhost:8080/"
        },
        "id": "7qlF8RQBrcBB",
        "outputId": "2aa97460-144f-4640-f029-26eccc6cce8b"
      },
      "execution_count": null,
      "outputs": [
        {
          "output_type": "execute_result",
          "data": {
            "text/plain": [
              "array([ 2.,  4.,  3.,  1.,  6.,  8.,  7.,  5., 11.,  9., 27., 43., 14.,\n",
              "       12., 10., 13.])"
            ]
          },
          "metadata": {},
          "execution_count": 734
        }
      ]
    },
    {
      "cell_type": "code",
      "source": [
        "size_drop=df.index[df['size']>20]"
      ],
      "metadata": {
        "id": "N7-LjZ78r_j3"
      },
      "execution_count": null,
      "outputs": []
    },
    {
      "cell_type": "code",
      "source": [
        "df=df.drop(size_drop)"
      ],
      "metadata": {
        "id": "RyQYKvh4TOXK"
      },
      "execution_count": null,
      "outputs": []
    },
    {
      "cell_type": "code",
      "source": [
        "df['bath'].unique()"
      ],
      "metadata": {
        "colab": {
          "base_uri": "https://localhost:8080/"
        },
        "id": "rXHbC6IO9ace",
        "outputId": "5947c882-b287-43d7-b455-6606d65d7cb2"
      },
      "execution_count": null,
      "outputs": [
        {
          "output_type": "execute_result",
          "data": {
            "text/plain": [
              "array([ 2.,  5.,  3.,  4.,  1.,  8.,  7.,  6.,  9., 11., 12., 10., 15.,\n",
              "       13.])"
            ]
          },
          "metadata": {},
          "execution_count": 737
        }
      ]
    },
    {
      "cell_type": "code",
      "source": [
        "bath_drop=df.index[df['bath']>10]"
      ],
      "metadata": {
        "id": "Q54pqblo9gRW"
      },
      "execution_count": null,
      "outputs": []
    },
    {
      "cell_type": "code",
      "source": [
        "df=df.drop(bath_drop)"
      ],
      "metadata": {
        "id": "9RApRxnf9ySU"
      },
      "execution_count": null,
      "outputs": []
    },
    {
      "cell_type": "code",
      "source": [
        "df['total_sqft'].values"
      ],
      "metadata": {
        "colab": {
          "base_uri": "https://localhost:8080/"
        },
        "id": "Py9xfcMSY7kM",
        "outputId": "c66910f9-5adc-4e00-954f-40907cd7dde3"
      },
      "execution_count": null,
      "outputs": [
        {
          "output_type": "execute_result",
          "data": {
            "text/plain": [
              "array([1056., 2600., 1440., ..., 1141., 4689.,  550.])"
            ]
          },
          "metadata": {},
          "execution_count": 740
        }
      ]
    },
    {
      "cell_type": "code",
      "source": [
        "#calculate interquartile range \n",
        "q3, q1 = np.percentile(df['total_sqft'], [75 ,25])\n",
        "iqr = q3 - q1\n",
        "upper=q3 +1.5*(iqr)\n",
        "lower=q1 -1.5*(iqr)\n",
        "print(upper,lower)"
      ],
      "metadata": {
        "colab": {
          "base_uri": "https://localhost:8080/"
        },
        "id": "2hRQUelIgnu1",
        "outputId": "e079d238-5b5b-4c3d-dec4-e6fd914fd3d9"
      },
      "execution_count": null,
      "outputs": [
        {
          "output_type": "stream",
          "name": "stdout",
          "text": [
            "2450.0 290.0\n"
          ]
        }
      ]
    },
    {
      "cell_type": "code",
      "source": [
        "df[(df['total_sqft']<300) | (df['total_sqft']>2500)]"
      ],
      "metadata": {
        "colab": {
          "base_uri": "https://localhost:8080/",
          "height": 424
        },
        "id": "Rp-_1WnDYtiH",
        "outputId": "876a3a00-24a2-4589-be60-b8e1c870a85d"
      },
      "execution_count": null,
      "outputs": [
        {
          "output_type": "execute_result",
          "data": {
            "text/plain": [
              "                  area_type          location  size  total_sqft  bath  price\n",
              "1                Plot  Area  Chikka Tirupathi   4.0      2600.0   5.0  120.0\n",
              "11               Plot  Area        Whitefield   4.0      2785.0   5.0  295.0\n",
              "18     Super built-up  Area             other   3.0      2770.0   4.0  290.0\n",
              "22               Plot  Area       Thanisandra   4.0      2800.0   5.0  380.0\n",
              "60               Plot  Area             other   3.0      4395.0   3.0  240.0\n",
              "...                     ...               ...   ...         ...   ...    ...\n",
              "13268  Super built-up  Area         EPIP Zone   4.0      3360.0   5.0  221.0\n",
              "13290  Super built-up  Area    Sarjapur  Road   4.0      4050.0   2.0  450.0\n",
              "13299  Super built-up  Area        Whitefield   4.0      2856.0   5.0  154.5\n",
              "13315        Built-up  Area        Whitefield   5.0      3453.0   4.0  231.0\n",
              "13318  Super built-up  Area   Padmanabhanagar   4.0      4689.0   4.0  488.0\n",
              "\n",
              "[969 rows x 6 columns]"
            ],
            "text/html": [
              "\n",
              "  <div id=\"df-6bf2507b-0c87-41cd-9dd9-4cc762addf39\">\n",
              "    <div class=\"colab-df-container\">\n",
              "      <div>\n",
              "<style scoped>\n",
              "    .dataframe tbody tr th:only-of-type {\n",
              "        vertical-align: middle;\n",
              "    }\n",
              "\n",
              "    .dataframe tbody tr th {\n",
              "        vertical-align: top;\n",
              "    }\n",
              "\n",
              "    .dataframe thead th {\n",
              "        text-align: right;\n",
              "    }\n",
              "</style>\n",
              "<table border=\"1\" class=\"dataframe\">\n",
              "  <thead>\n",
              "    <tr style=\"text-align: right;\">\n",
              "      <th></th>\n",
              "      <th>area_type</th>\n",
              "      <th>location</th>\n",
              "      <th>size</th>\n",
              "      <th>total_sqft</th>\n",
              "      <th>bath</th>\n",
              "      <th>price</th>\n",
              "    </tr>\n",
              "  </thead>\n",
              "  <tbody>\n",
              "    <tr>\n",
              "      <th>1</th>\n",
              "      <td>Plot  Area</td>\n",
              "      <td>Chikka Tirupathi</td>\n",
              "      <td>4.0</td>\n",
              "      <td>2600.0</td>\n",
              "      <td>5.0</td>\n",
              "      <td>120.0</td>\n",
              "    </tr>\n",
              "    <tr>\n",
              "      <th>11</th>\n",
              "      <td>Plot  Area</td>\n",
              "      <td>Whitefield</td>\n",
              "      <td>4.0</td>\n",
              "      <td>2785.0</td>\n",
              "      <td>5.0</td>\n",
              "      <td>295.0</td>\n",
              "    </tr>\n",
              "    <tr>\n",
              "      <th>18</th>\n",
              "      <td>Super built-up  Area</td>\n",
              "      <td>other</td>\n",
              "      <td>3.0</td>\n",
              "      <td>2770.0</td>\n",
              "      <td>4.0</td>\n",
              "      <td>290.0</td>\n",
              "    </tr>\n",
              "    <tr>\n",
              "      <th>22</th>\n",
              "      <td>Plot  Area</td>\n",
              "      <td>Thanisandra</td>\n",
              "      <td>4.0</td>\n",
              "      <td>2800.0</td>\n",
              "      <td>5.0</td>\n",
              "      <td>380.0</td>\n",
              "    </tr>\n",
              "    <tr>\n",
              "      <th>60</th>\n",
              "      <td>Plot  Area</td>\n",
              "      <td>other</td>\n",
              "      <td>3.0</td>\n",
              "      <td>4395.0</td>\n",
              "      <td>3.0</td>\n",
              "      <td>240.0</td>\n",
              "    </tr>\n",
              "    <tr>\n",
              "      <th>...</th>\n",
              "      <td>...</td>\n",
              "      <td>...</td>\n",
              "      <td>...</td>\n",
              "      <td>...</td>\n",
              "      <td>...</td>\n",
              "      <td>...</td>\n",
              "    </tr>\n",
              "    <tr>\n",
              "      <th>13268</th>\n",
              "      <td>Super built-up  Area</td>\n",
              "      <td>EPIP Zone</td>\n",
              "      <td>4.0</td>\n",
              "      <td>3360.0</td>\n",
              "      <td>5.0</td>\n",
              "      <td>221.0</td>\n",
              "    </tr>\n",
              "    <tr>\n",
              "      <th>13290</th>\n",
              "      <td>Super built-up  Area</td>\n",
              "      <td>Sarjapur  Road</td>\n",
              "      <td>4.0</td>\n",
              "      <td>4050.0</td>\n",
              "      <td>2.0</td>\n",
              "      <td>450.0</td>\n",
              "    </tr>\n",
              "    <tr>\n",
              "      <th>13299</th>\n",
              "      <td>Super built-up  Area</td>\n",
              "      <td>Whitefield</td>\n",
              "      <td>4.0</td>\n",
              "      <td>2856.0</td>\n",
              "      <td>5.0</td>\n",
              "      <td>154.5</td>\n",
              "    </tr>\n",
              "    <tr>\n",
              "      <th>13315</th>\n",
              "      <td>Built-up  Area</td>\n",
              "      <td>Whitefield</td>\n",
              "      <td>5.0</td>\n",
              "      <td>3453.0</td>\n",
              "      <td>4.0</td>\n",
              "      <td>231.0</td>\n",
              "    </tr>\n",
              "    <tr>\n",
              "      <th>13318</th>\n",
              "      <td>Super built-up  Area</td>\n",
              "      <td>Padmanabhanagar</td>\n",
              "      <td>4.0</td>\n",
              "      <td>4689.0</td>\n",
              "      <td>4.0</td>\n",
              "      <td>488.0</td>\n",
              "    </tr>\n",
              "  </tbody>\n",
              "</table>\n",
              "<p>969 rows × 6 columns</p>\n",
              "</div>\n",
              "      <button class=\"colab-df-convert\" onclick=\"convertToInteractive('df-6bf2507b-0c87-41cd-9dd9-4cc762addf39')\"\n",
              "              title=\"Convert this dataframe to an interactive table.\"\n",
              "              style=\"display:none;\">\n",
              "        \n",
              "  <svg xmlns=\"http://www.w3.org/2000/svg\" height=\"24px\"viewBox=\"0 0 24 24\"\n",
              "       width=\"24px\">\n",
              "    <path d=\"M0 0h24v24H0V0z\" fill=\"none\"/>\n",
              "    <path d=\"M18.56 5.44l.94 2.06.94-2.06 2.06-.94-2.06-.94-.94-2.06-.94 2.06-2.06.94zm-11 1L8.5 8.5l.94-2.06 2.06-.94-2.06-.94L8.5 2.5l-.94 2.06-2.06.94zm10 10l.94 2.06.94-2.06 2.06-.94-2.06-.94-.94-2.06-.94 2.06-2.06.94z\"/><path d=\"M17.41 7.96l-1.37-1.37c-.4-.4-.92-.59-1.43-.59-.52 0-1.04.2-1.43.59L10.3 9.45l-7.72 7.72c-.78.78-.78 2.05 0 2.83L4 21.41c.39.39.9.59 1.41.59.51 0 1.02-.2 1.41-.59l7.78-7.78 2.81-2.81c.8-.78.8-2.07 0-2.86zM5.41 20L4 18.59l7.72-7.72 1.47 1.35L5.41 20z\"/>\n",
              "  </svg>\n",
              "      </button>\n",
              "      \n",
              "  <style>\n",
              "    .colab-df-container {\n",
              "      display:flex;\n",
              "      flex-wrap:wrap;\n",
              "      gap: 12px;\n",
              "    }\n",
              "\n",
              "    .colab-df-convert {\n",
              "      background-color: #E8F0FE;\n",
              "      border: none;\n",
              "      border-radius: 50%;\n",
              "      cursor: pointer;\n",
              "      display: none;\n",
              "      fill: #1967D2;\n",
              "      height: 32px;\n",
              "      padding: 0 0 0 0;\n",
              "      width: 32px;\n",
              "    }\n",
              "\n",
              "    .colab-df-convert:hover {\n",
              "      background-color: #E2EBFA;\n",
              "      box-shadow: 0px 1px 2px rgba(60, 64, 67, 0.3), 0px 1px 3px 1px rgba(60, 64, 67, 0.15);\n",
              "      fill: #174EA6;\n",
              "    }\n",
              "\n",
              "    [theme=dark] .colab-df-convert {\n",
              "      background-color: #3B4455;\n",
              "      fill: #D2E3FC;\n",
              "    }\n",
              "\n",
              "    [theme=dark] .colab-df-convert:hover {\n",
              "      background-color: #434B5C;\n",
              "      box-shadow: 0px 1px 3px 1px rgba(0, 0, 0, 0.15);\n",
              "      filter: drop-shadow(0px 1px 2px rgba(0, 0, 0, 0.3));\n",
              "      fill: #FFFFFF;\n",
              "    }\n",
              "  </style>\n",
              "\n",
              "      <script>\n",
              "        const buttonEl =\n",
              "          document.querySelector('#df-6bf2507b-0c87-41cd-9dd9-4cc762addf39 button.colab-df-convert');\n",
              "        buttonEl.style.display =\n",
              "          google.colab.kernel.accessAllowed ? 'block' : 'none';\n",
              "\n",
              "        async function convertToInteractive(key) {\n",
              "          const element = document.querySelector('#df-6bf2507b-0c87-41cd-9dd9-4cc762addf39');\n",
              "          const dataTable =\n",
              "            await google.colab.kernel.invokeFunction('convertToInteractive',\n",
              "                                                     [key], {});\n",
              "          if (!dataTable) return;\n",
              "\n",
              "          const docLinkHtml = 'Like what you see? Visit the ' +\n",
              "            '<a target=\"_blank\" href=https://colab.research.google.com/notebooks/data_table.ipynb>data table notebook</a>'\n",
              "            + ' to learn more about interactive tables.';\n",
              "          element.innerHTML = '';\n",
              "          dataTable['output_type'] = 'display_data';\n",
              "          await google.colab.output.renderOutput(dataTable, element);\n",
              "          const docLink = document.createElement('div');\n",
              "          docLink.innerHTML = docLinkHtml;\n",
              "          element.appendChild(docLink);\n",
              "        }\n",
              "      </script>\n",
              "    </div>\n",
              "  </div>\n",
              "  "
            ]
          },
          "metadata": {},
          "execution_count": 742
        }
      ]
    },
    {
      "cell_type": "code",
      "source": [
        "sqft_drop=df.index[(df['total_sqft']<300) | (df['total_sqft']>2500)]"
      ],
      "metadata": {
        "id": "XZkXYo09bYIE"
      },
      "execution_count": null,
      "outputs": []
    },
    {
      "cell_type": "code",
      "source": [
        "df=df.drop(sqft_drop)"
      ],
      "metadata": {
        "id": "f1Ga6X0rbj-H"
      },
      "execution_count": null,
      "outputs": []
    },
    {
      "cell_type": "markdown",
      "source": [
        "# **Model selection and Model Training**"
      ],
      "metadata": {
        "id": "Rm1Y58jPZw8j"
      }
    },
    {
      "cell_type": "code",
      "source": [
        "df= pd.get_dummies(df,drop_first=True)"
      ],
      "metadata": {
        "id": "i4ZVF5fk7kAb"
      },
      "execution_count": null,
      "outputs": []
    },
    {
      "cell_type": "code",
      "source": [
        "x = df.drop(columns=['price'])\n",
        "y = df['price']"
      ],
      "metadata": {
        "id": "CwX5PY8FnDHf"
      },
      "execution_count": null,
      "outputs": []
    },
    {
      "cell_type": "code",
      "source": [
        "print(x.shape)\n",
        "print(y.shape)"
      ],
      "metadata": {
        "colab": {
          "base_uri": "https://localhost:8080/"
        },
        "id": "23iCWOMpaHzi",
        "outputId": "7e0c6ec2-16a4-405e-a835-86808df89108"
      },
      "execution_count": null,
      "outputs": [
        {
          "output_type": "stream",
          "name": "stdout",
          "text": [
            "(11598, 241)\n",
            "(11598,)\n"
          ]
        }
      ]
    },
    {
      "cell_type": "code",
      "source": [
        "from sklearn.model_selection import train_test_split\n",
        "x_train,x_test,y_train,y_test=train_test_split(x,y,test_size=0.2,random_state=42)\n"
      ],
      "metadata": {
        "id": "MQgA7hCAaUt_"
      },
      "execution_count": null,
      "outputs": []
    },
    {
      "cell_type": "code",
      "source": [
        "print('The shape of x_train =',x_train.shape)\n",
        "print('The shape of x_test = ',x_test.shape)\n",
        "print('The shape of y_train = ',y_train.shape)\n",
        "print('The shape of y_test = ',y_test.shape)"
      ],
      "metadata": {
        "colab": {
          "base_uri": "https://localhost:8080/"
        },
        "id": "u5IYkGT-akKQ",
        "outputId": "babf61e3-7a7a-4ad7-afa5-fd383edb9282"
      },
      "execution_count": null,
      "outputs": [
        {
          "output_type": "stream",
          "name": "stdout",
          "text": [
            "The shape of x_train = (9278, 241)\n",
            "The shape of x_test =  (2320, 241)\n",
            "The shape of y_train =  (9278,)\n",
            "The shape of y_test =  (2320,)\n"
          ]
        }
      ]
    },
    {
      "cell_type": "code",
      "source": [
        "from sklearn.preprocessing import StandardScaler\n",
        "sc=StandardScaler()\n",
        "sc.fit_transform(x_train)"
      ],
      "metadata": {
        "colab": {
          "base_uri": "https://localhost:8080/"
        },
        "id": "FF6BH-Xqybd6",
        "outputId": "664ac5ed-6a98-4673-f4e5-22a2fe2b1bd9"
      },
      "execution_count": null,
      "outputs": [
        {
          "output_type": "execute_result",
          "data": {
            "text/plain": [
              "array([[-1.55467337, -1.65587147, -1.46218619, ..., -0.03445298,\n",
              "        -0.07862278,  1.92294605],\n",
              "       [-0.58530109, -1.1616287 , -0.45212265, ..., -0.03445298,\n",
              "        -0.07862278, -0.52003539],\n",
              "       [ 0.38407119, -1.78260038,  1.56800445, ..., -0.03445298,\n",
              "        -0.07862278,  1.92294605],\n",
              "       ...,\n",
              "       [ 3.29218803, -0.26185342,  3.58813154, ..., -0.03445298,\n",
              "        -0.07862278, -0.52003539],\n",
              "       [-0.58530109, -0.32521787, -0.45212265, ..., -0.03445298,\n",
              "        -0.07862278, -0.52003539],\n",
              "       [-0.58530109, -0.76876907, -0.45212265, ..., -0.03445298,\n",
              "        -0.07862278, -0.52003539]])"
            ]
          },
          "metadata": {},
          "execution_count": 752
        }
      ]
    },
    {
      "cell_type": "markdown",
      "source": [
        "# **Applying Linear Regresion**"
      ],
      "metadata": {
        "id": "SJ6xnh69v2Gb"
      }
    },
    {
      "cell_type": "code",
      "source": [
        "from sklearn import linear_model\n",
        "lm=linear_model.LinearRegression()\n",
        "lm.fit(x_train,y_train)\n"
      ],
      "metadata": {
        "colab": {
          "base_uri": "https://localhost:8080/"
        },
        "id": "r54M0erVbLqP",
        "outputId": "21369381-4444-4981-9762-1bc9465f0b55"
      },
      "execution_count": null,
      "outputs": [
        {
          "output_type": "execute_result",
          "data": {
            "text/plain": [
              "LinearRegression()"
            ]
          },
          "metadata": {},
          "execution_count": 753
        }
      ]
    },
    {
      "cell_type": "code",
      "source": [
        "test_pred = lm.predict(x_test)\n",
        "train_pred=lm.predict(x_train)"
      ],
      "metadata": {
        "id": "tyMKrlildnWu"
      },
      "execution_count": null,
      "outputs": []
    },
    {
      "cell_type": "code",
      "source": [
        "lm_score = lm.score(x_test,y_test)"
      ],
      "metadata": {
        "id": "G2mN-nfOrkJh"
      },
      "execution_count": null,
      "outputs": []
    },
    {
      "cell_type": "code",
      "source": [
        "print(lm_score*100,'%')"
      ],
      "metadata": {
        "colab": {
          "base_uri": "https://localhost:8080/"
        },
        "id": "LXDU7mnCrsVV",
        "outputId": "efc7291e-d57a-41ff-acd9-f5a51746fe01"
      },
      "execution_count": null,
      "outputs": [
        {
          "output_type": "stream",
          "name": "stdout",
          "text": [
            "56.861727372292734 %\n"
          ]
        }
      ]
    },
    {
      "cell_type": "markdown",
      "source": [
        "# **Applying Random Forest Regressor**"
      ],
      "metadata": {
        "id": "Ak9LZbwRsA1R"
      }
    },
    {
      "cell_type": "code",
      "source": [
        "from sklearn.ensemble import RandomForestRegressor\n",
        "rfr=RandomForestRegressor(n_estimators=10)\n",
        "rfr.fit(x_train, y_train)"
      ],
      "metadata": {
        "colab": {
          "base_uri": "https://localhost:8080/"
        },
        "id": "0ibQU2j5r5ZF",
        "outputId": "805f85bc-7db6-43e9-9bbc-d8afb4c691a1"
      },
      "execution_count": null,
      "outputs": [
        {
          "output_type": "execute_result",
          "data": {
            "text/plain": [
              "RandomForestRegressor(n_estimators=10)"
            ]
          },
          "metadata": {},
          "execution_count": 757
        }
      ]
    },
    {
      "cell_type": "code",
      "source": [
        "test_pred = rfr.predict(x_test)\n",
        "train_pred=rfr.predict(x_train)"
      ],
      "metadata": {
        "id": "T0knXKUKscTK"
      },
      "execution_count": null,
      "outputs": []
    },
    {
      "cell_type": "code",
      "source": [
        "rfr_score = rfr.score(x_test,y_test)"
      ],
      "metadata": {
        "id": "Uex5lsv1s6zq"
      },
      "execution_count": null,
      "outputs": []
    },
    {
      "cell_type": "code",
      "source": [
        "print(rfr_score*100,'%')"
      ],
      "metadata": {
        "colab": {
          "base_uri": "https://localhost:8080/"
        },
        "id": "tao9LfT2tFjj",
        "outputId": "35ee198f-c7bd-4f66-efc3-6df3be769cfa"
      },
      "execution_count": null,
      "outputs": [
        {
          "output_type": "stream",
          "name": "stdout",
          "text": [
            "60.88654580758773 %\n"
          ]
        }
      ]
    },
    {
      "cell_type": "markdown",
      "source": [
        "# **Applying Decision Tree regression**"
      ],
      "metadata": {
        "id": "w9JMRgQhvqDb"
      }
    },
    {
      "cell_type": "code",
      "source": [
        "from sklearn.tree import DecisionTreeRegressor\n",
        "dtr=DecisionTreeRegressor()\n",
        "dtr.fit(x_train,y_train)"
      ],
      "metadata": {
        "colab": {
          "base_uri": "https://localhost:8080/"
        },
        "id": "VUgRUOIjtIpi",
        "outputId": "e5f8a125-a2f5-4de1-80a8-7f37558e6617"
      },
      "execution_count": null,
      "outputs": [
        {
          "output_type": "execute_result",
          "data": {
            "text/plain": [
              "DecisionTreeRegressor()"
            ]
          },
          "metadata": {},
          "execution_count": 761
        }
      ]
    },
    {
      "cell_type": "code",
      "source": [
        "test_pred = dtr.predict(x_test)\n",
        "train_pred=dtr.predict(x_train)"
      ],
      "metadata": {
        "id": "opppCL7Bt3vi"
      },
      "execution_count": null,
      "outputs": []
    },
    {
      "cell_type": "code",
      "source": [
        "dtr_score = dtr.score(x_test,y_test)"
      ],
      "metadata": {
        "id": "NGkILZKbuTHk"
      },
      "execution_count": null,
      "outputs": []
    },
    {
      "cell_type": "code",
      "source": [
        "print(dtr_score*100,'%')"
      ],
      "metadata": {
        "colab": {
          "base_uri": "https://localhost:8080/"
        },
        "id": "LNlfSOJ1ub3E",
        "outputId": "74aa02ab-9d91-4eb0-f94a-63468e242aaa"
      },
      "execution_count": null,
      "outputs": [
        {
          "output_type": "stream",
          "name": "stdout",
          "text": [
            "45.66440007764121 %\n"
          ]
        }
      ]
    },
    {
      "cell_type": "markdown",
      "source": [
        "# **Applying KNeighbors Regressor**"
      ],
      "metadata": {
        "id": "fkgT50HmwBmT"
      }
    },
    {
      "cell_type": "code",
      "source": [
        "from sklearn.neighbors import KNeighborsRegressor\n",
        "knn = KNeighborsRegressor(n_neighbors=10)\n",
        "knn.fit(x_train, y_train)"
      ],
      "metadata": {
        "colab": {
          "base_uri": "https://localhost:8080/"
        },
        "id": "H0DJxJa0ufSs",
        "outputId": "13e8c4e1-2bc6-4efa-ef3a-a140156ceb39"
      },
      "execution_count": null,
      "outputs": [
        {
          "output_type": "execute_result",
          "data": {
            "text/plain": [
              "KNeighborsRegressor(n_neighbors=10)"
            ]
          },
          "metadata": {},
          "execution_count": 765
        }
      ]
    },
    {
      "cell_type": "code",
      "source": [
        "y_pred = knn.predict(x_test)"
      ],
      "metadata": {
        "id": "LTuGADwOu23z"
      },
      "execution_count": null,
      "outputs": []
    },
    {
      "cell_type": "code",
      "source": [
        "knn_score =knn.score(x_test,y_test)"
      ],
      "metadata": {
        "id": "5uXxz8lyu74B"
      },
      "execution_count": null,
      "outputs": []
    },
    {
      "cell_type": "code",
      "source": [
        "print(knn_score*100,'%')"
      ],
      "metadata": {
        "id": "QRvRDwZbvfsY",
        "colab": {
          "base_uri": "https://localhost:8080/"
        },
        "outputId": "d86e94b9-878a-4c82-f941-8740e63d3388"
      },
      "execution_count": null,
      "outputs": [
        {
          "output_type": "stream",
          "name": "stdout",
          "text": [
            "52.90427192960393 %\n"
          ]
        }
      ]
    },
    {
      "cell_type": "markdown",
      "source": [
        "# **Feature Selection:**"
      ],
      "metadata": {
        "id": "_ypSuLufesKW"
      }
    },
    {
      "cell_type": "code",
      "source": [
        "feat_labels=x_train.columns\n"
      ],
      "metadata": {
        "id": "mVrotcW9CreS"
      },
      "execution_count": null,
      "outputs": []
    },
    {
      "cell_type": "code",
      "source": [
        "importances = rfr.feature_importances_\n",
        "sorted_indices = np.argsort(importances)[::-1]"
      ],
      "metadata": {
        "id": "8diqZuIZGeyJ"
      },
      "execution_count": null,
      "outputs": []
    },
    {
      "cell_type": "code",
      "source": [
        "for f in range(x_train.shape[1]):\n",
        "    print(\"%2d) %-*s %f\" % (f + 1, 30,\n",
        "                            feat_labels[sorted_indices[f]],\n",
        "                            importances[sorted_indices[f]]))"
      ],
      "metadata": {
        "colab": {
          "base_uri": "https://localhost:8080/"
        },
        "id": "jXrBtxzIG0ES",
        "outputId": "9dee72e3-336f-4ca2-8f27-c5974aa4b8b0"
      },
      "execution_count": null,
      "outputs": [
        {
          "output_type": "stream",
          "name": "stdout",
          "text": [
            " 1) total_sqft                     0.495291\n",
            " 2) size                           0.124700\n",
            " 3) area_type_Plot  Area           0.101561\n",
            " 4) bath                           0.063856\n",
            " 5) location_other                 0.027097\n",
            " 6) location_Rajaji Nagar          0.019058\n",
            " 7) area_type_Super built-up  Area 0.016094\n",
            " 8) location_Indira Nagar          0.006749\n",
            " 9) location_Banashankari Stage II 0.005673\n",
            "10) area_type_Carpet  Area         0.005386\n",
            "11) location_Electronic City       0.005338\n",
            "12) location_Koramangala           0.005132\n",
            "13) location_Domlur                0.005088\n",
            "14) location_Malleshwaram          0.004577\n",
            "15) location_Whitefield            0.004339\n",
            "16) location_Kundalahalli          0.004083\n",
            "17) location_1st Phase JP Nagar    0.003291\n",
            "18) location_Basavangudi           0.002601\n",
            "19) location_Vijayanagar           0.002244\n",
            "20) location_Hebbal                0.002244\n",
            "21) location_Frazer Town           0.002121\n",
            "22) location_Hennur Road           0.002110\n",
            "23) location_Nagarbhavi            0.001959\n",
            "24) location_Uttarahalli           0.001711\n",
            "25) location_Banashankari          0.001706\n",
            "26) location_Hebbal Kempapura      0.001699\n",
            "27) location_Sarjapur  Road        0.001637\n",
            "28) location_R.T. Nagar            0.001616\n",
            "29) location_KR Puram              0.001568\n",
            "30) location_2nd Stage Nagarbhavi  0.001564\n",
            "31) location_Electronic City Phase II 0.001549\n",
            "32) location_Cox Town              0.001533\n",
            "33) location_Horamavu Agara        0.001498\n",
            "34) location_7th Phase JP Nagar    0.001494\n",
            "35) location_Giri Nagar            0.001480\n",
            "36) location_Raja Rajeshwari Nagar 0.001443\n",
            "37) location_Kannamangala          0.001433\n",
            "38) location_Banashankari Stage III 0.001393\n",
            "39) location_Kasturi Nagar         0.001333\n",
            "40) location_Binny Pete            0.001291\n",
            "41) location_Sarakki Nagar         0.001242\n",
            "42) location_Benson Town           0.001180\n",
            "43) location_Chamrajpet            0.001173\n",
            "44) location_Hulimavu              0.001141\n",
            "45) location_Cooke Town            0.001141\n",
            "46) location_Hosakerehalli         0.001118\n",
            "47) location_Devanahalli           0.001107\n",
            "48) location_Basaveshwara Nagar    0.001063\n",
            "49) location_BTM 2nd Stage         0.001043\n",
            "50) location_Chikkalasandra        0.001042\n",
            "51) location_Begur                 0.001015\n",
            "52) location_Hoodi                 0.000993\n",
            "53) location_Bannerghatta Road     0.000975\n",
            "54) location_Yeshwanthpur          0.000967\n",
            "55) location_Chandapura            0.000942\n",
            "56) location_HRBR Layout           0.000937\n",
            "57) location_Sarjapur              0.000892\n",
            "58) location_Thanisandra           0.000867\n",
            "59) location_Judicial Layout       0.000858\n",
            "60) location_Ambalipura            0.000846\n",
            "61) location_OMBR Layout           0.000825\n",
            "62) location_Ulsoor                0.000807\n",
            "63) location_Anekal                0.000778\n",
            "64) location_Kogilu                0.000759\n",
            "65) location_5th Phase JP Nagar    0.000724\n",
            "66) location_Sector 7 HSR Layout   0.000714\n",
            "67) location_Marathahalli          0.000713\n",
            "68) location_Sahakara Nagar        0.000698\n",
            "69) location_Kodihalli             0.000693\n",
            "70) location_JP Nagar              0.000668\n",
            "71) location_Ramamurthy Nagar      0.000659\n",
            "72) location_Sanjay nagar          0.000650\n",
            "73) location_Yelachenahalli        0.000646\n",
            "74) location_Lakshminarayana Pura  0.000634\n",
            "75) location_Yelahanka             0.000628\n",
            "76) location_Attibele              0.000602\n",
            "77) location_HBR Layout            0.000571\n",
            "78) location_Bellandur             0.000569\n",
            "79) location_Kudlu Gate            0.000550\n",
            "80) location_Poorna Pragna Layout  0.000545\n",
            "81) location_Kasavanhalli          0.000510\n",
            "82) location_TC Palaya             0.000498\n",
            "83) location_CV Raman Nagar        0.000491\n",
            "84) location_Hosur Road            0.000491\n",
            "85) location_Kanakpura Road        0.000490\n",
            "86) location_Haralur Road          0.000481\n",
            "87) location_BEML Layout           0.000472\n",
            "88) location_Kothannur             0.000470\n",
            "89) location_Kammasandra           0.000457\n",
            "90) location_Kothanur              0.000451\n",
            "91) location_Akshaya Nagar         0.000448\n",
            "92) location_Channasandra          0.000447\n",
            "93) location_Cunningham Road       0.000446\n",
            "94) location_Kengeri               0.000429\n",
            "95) location_Chikka Tirupathi      0.000426\n",
            "96) location_Varthur               0.000422\n",
            "97) location_8th Phase JP Nagar    0.000412\n",
            "98) location_Hosa Road             0.000399\n",
            "99) location_Begur Road            0.000394\n",
            "100) location_HSR Layout            0.000389\n",
            "101) location_Harlur                0.000389\n",
            "102) location_Jalahalli             0.000389\n",
            "103) location_Laggere               0.000382\n",
            "104) location_Vidyaranyapura        0.000381\n",
            "105) location_Jigani                0.000380\n",
            "106) location_Kaval Byrasandra      0.000370\n",
            "107) location_Hormavu               0.000360\n",
            "108) location_Shivaji Nagar         0.000344\n",
            "109) location_Thigalarapalya        0.000343\n",
            "110) location_Banashankari Stage V  0.000338\n",
            "111) location_Jakkur                0.000332\n",
            "112) location_6th Phase JP Nagar    0.000328\n",
            "113) location_Kammanahalli          0.000323\n",
            "114) location_Brookefield           0.000322\n",
            "115) location_Mahalakshmi Layout    0.000318\n",
            "116) location_Nagavarapalya         0.000296\n",
            "117) location_Nagasandra            0.000287\n",
            "118) location_Panathur              0.000270\n",
            "119) location_Anandapura            0.000270\n",
            "120) location_Ramagondanahalli      0.000268\n",
            "121) location_Devarachikkanahalli   0.000268\n",
            "122) location_Malleshpalya          0.000266\n",
            "123) location_Anjanapura            0.000264\n",
            "124) location_Kalena Agrahara       0.000262\n",
            "125) location_9th Phase JP Nagar    0.000257\n",
            "126) location_Banaswadi             0.000255\n",
            "127) location_Gottigere             0.000247\n",
            "128) location_Hegde Nagar           0.000246\n",
            "129) location_Arekere               0.000245\n",
            "130) location_Old Madras Road       0.000239\n",
            "131) location_Munnekollal           0.000234\n",
            "132) location_Yelahanka New Town    0.000233\n",
            "133) location_Old Airport Road      0.000233\n",
            "134) location_BTM Layout            0.000230\n",
            "135) location_Gunjur                0.000225\n",
            "136) location_ITPL                  0.000224\n",
            "137) location_Karuna Nagar          0.000224\n",
            "138) location_Sarjapura - Attibele Road 0.000218\n",
            "139) location_Green Glen Layout     0.000210\n",
            "140) location_Bommasandra           0.000209\n",
            "141) location_Bhoganhalli           0.000200\n",
            "142) location_Seegehalli            0.000198\n",
            "143) location_Nagavara              0.000196\n",
            "144) location_Somasundara Palya     0.000192\n",
            "145) location_Mysore Road           0.000192\n",
            "146) location_Electronics City Phase 1 0.000189\n",
            "147) location_Bannerghatta          0.000189\n",
            "148) location_Battarahalli          0.000187\n",
            "149) location_Tumkur Road           0.000187\n",
            "150) location_ISRO Layout           0.000185\n",
            "151) location_Kaggadasapura         0.000177\n",
            "152) location_Ananth Nagar          0.000173\n",
            "153) location_Mallasandra           0.000166\n",
            "154) location_Prithvi Layout        0.000163\n",
            "155) location_Hennur                0.000162\n",
            "156) location_Chikkabanavar         0.000159\n",
            "157) location_Balagere              0.000155\n",
            "158) location_Hoskote               0.000154\n",
            "159) location_Murugeshpalya         0.000153\n",
            "160) location_Bommasandra Industrial Area 0.000151\n",
            "161) location_Billekahalli          0.000145\n",
            "162) location_Dasarahalli           0.000143\n",
            "163) location_Shampura              0.000136\n",
            "164) location_Kanakapura            0.000136\n",
            "165) location_NRI Layout            0.000134\n",
            "166) location_Horamavu Banaswadi    0.000133\n",
            "167) location_Thubarahalli          0.000132\n",
            "168) location_Sultan Palaya         0.000128\n",
            "169) location_Talaghattapura        0.000126\n",
            "170) location_Margondanahalli       0.000122\n",
            "171) location_Rayasandra            0.000122\n",
            "172) location_Dodda Nekkundi        0.000121\n",
            "173) location_Kodichikkanahalli     0.000120\n",
            "174) location_Kathriguppe           0.000118\n",
            "175) location_Singasandra           0.000117\n",
            "176) location_Choodasandra          0.000116\n",
            "177) location_Amruthahalli          0.000105\n",
            "178) location_Budigere              0.000103\n",
            "179) location_Magadi Road           0.000100\n",
            "180) location_Kadubeesanahalli      0.000093\n",
            "181) location_Banashankari Stage VI 0.000092\n",
            "182) location_Kadugodi              0.000091\n",
            "183) location_Marsur                0.000091\n",
            "184) location_Varthur Road          0.000087\n",
            "185) location_Subramanyapura        0.000085\n",
            "186) location_Kaikondrahalli        0.000083\n",
            "187) location_Kalyan nagar          0.000083\n",
            "188) location_Babusapalaya          0.000082\n",
            "189) location_Gubbalala             0.000081\n",
            "190) location_Rachenahalli          0.000078\n",
            "191) location_Sector 2 HSR Layout   0.000078\n",
            "192) location_Ambedkar Nagar        0.000077\n",
            "193) location_Dasanapura            0.000073\n",
            "194) location_Kumaraswami Layout    0.000072\n",
            "195) location_LB Shastri Nagar      0.000072\n",
            "196) location_Kodigehaali           0.000070\n",
            "197) location_Abbigere              0.000067\n",
            "198) location_Padmanabhanagar       0.000066\n",
            "199) location_Kengeri Satellite Town 0.000066\n",
            "200) location_Mahadevpura           0.000065\n",
            "201) location_EPIP Zone             0.000065\n",
            "202) location_Lingadheeranahalli    0.000063\n",
            "203) location_Kereguddadahalli      0.000061\n",
            "204) location_Bommanahalli          0.000056\n",
            "205) location_Banjara Layout        0.000055\n",
            "206) location_Bommenahalli          0.000054\n",
            "207) location_AECS Layout           0.000054\n",
            "208) location_Ardendale             0.000053\n",
            "209) location_GM Palaya             0.000053\n",
            "210) location_Neeladri Nagar        0.000052\n",
            "211) location_Kudlu                 0.000048\n",
            "212) location_Narayanapura          0.000048\n",
            "213) location_Doddathoguru          0.000047\n",
            "214) location_Iblur Village         0.000046\n",
            "215) location_Vishveshwarya Layout  0.000043\n",
            "216) location_Vittasandra           0.000043\n",
            "217) location_Garudachar Palya      0.000041\n",
            "218) location_Sonnenahalli          0.000041\n",
            "219) location_Doddakallasandra      0.000037\n",
            "220) location_Badavala Nagar        0.000037\n",
            "221) location_Dommasandra           0.000037\n",
            "222) location_Sompura               0.000035\n",
            "223) location_Mico Layout           0.000035\n",
            "224) location_Yelenahalli           0.000029\n",
            "225) location_Jalahalli East        0.000029\n",
            "226) location_Pai Layout            0.000028\n",
            "227) location_Konanakunte           0.000028\n",
            "228) location_Vishwapriya Layout    0.000027\n",
            "229) location_Vasanthapura          0.000026\n",
            "230) location_Kenchenahalli         0.000025\n",
            "231) location_Bisuvanahalli         0.000021\n",
            "232) location_Rajiv Nagar           0.000020\n",
            "233) location_Gollarapalya Hosahalli 0.000020\n",
            "234) location_Kaggalipura           0.000018\n",
            "235) location_Bharathi Nagar        0.000015\n",
            "236) location_2nd Phase Judicial Layout 0.000015\n",
            "237) location_Parappana Agrahara    0.000012\n",
            "238) location_Pattandur Agrahara    0.000011\n",
            "239) location_Tindlu                0.000008\n",
            "240) location_NGR Layout            0.000006\n",
            "241) location_Kambipura             0.000005\n"
          ]
        }
      ]
    },
    {
      "cell_type": "code",
      "source": [
        "x_train.loc[:,['total_sqft','size','area_type_Plot  Area','bath','location_other','location_Rajaji Nagar','area_type_Super built-up  Area',\n",
        "               'location_Indira Nagar','location_Banashankari Stage II','area_type_Carpet  Area']]"
      ],
      "metadata": {
        "colab": {
          "base_uri": "https://localhost:8080/",
          "height": 485
        },
        "id": "euMjkHXWIat4",
        "outputId": "2e49c36e-36ae-41f8-e5d2-0a272fc39449"
      },
      "execution_count": null,
      "outputs": [
        {
          "output_type": "execute_result",
          "data": {
            "text/plain": [
              "       total_sqft  size  area_type_Plot  Area  bath  location_other  \\\n",
              "3643        650.0   1.0                     0   1.0               1   \n",
              "4668        845.0   2.0                     0   2.0               0   \n",
              "6297        600.0   3.0                     1   4.0               1   \n",
              "909        2238.0   3.0                     0   3.0               0   \n",
              "8243        820.0   2.0                     0   2.0               1   \n",
              "...           ...   ...                   ...   ...             ...   \n",
              "12961      1799.0   6.0                     0   6.0               1   \n",
              "5986       1300.0   2.0                     0   2.0               0   \n",
              "6214       1200.0   6.0                     1   6.0               0   \n",
              "994        1175.0   2.0                     0   2.0               0   \n",
              "8388       1000.0   2.0                     0   2.0               0   \n",
              "\n",
              "       location_Rajaji Nagar  area_type_Super built-up  Area  \\\n",
              "3643                       0                               1   \n",
              "4668                       0                               1   \n",
              "6297                       0                               0   \n",
              "909                        0                               0   \n",
              "8243                       0                               0   \n",
              "...                      ...                             ...   \n",
              "12961                      0                               0   \n",
              "5986                       0                               0   \n",
              "6214                       0                               0   \n",
              "994                        0                               1   \n",
              "8388                       0                               1   \n",
              "\n",
              "       location_Indira Nagar  location_Banashankari Stage II  \\\n",
              "3643                       0                               0   \n",
              "4668                       0                               0   \n",
              "6297                       0                               0   \n",
              "909                        0                               0   \n",
              "8243                       0                               0   \n",
              "...                      ...                             ...   \n",
              "12961                      0                               0   \n",
              "5986                       0                               0   \n",
              "6214                       0                               0   \n",
              "994                        0                               0   \n",
              "8388                       0                               0   \n",
              "\n",
              "       area_type_Carpet  Area  \n",
              "3643                        0  \n",
              "4668                        0  \n",
              "6297                        0  \n",
              "909                         0  \n",
              "8243                        0  \n",
              "...                       ...  \n",
              "12961                       0  \n",
              "5986                        0  \n",
              "6214                        0  \n",
              "994                         0  \n",
              "8388                        0  \n",
              "\n",
              "[9278 rows x 10 columns]"
            ],
            "text/html": [
              "\n",
              "  <div id=\"df-617338ab-084a-41d9-8962-f3f7a2e4ff53\">\n",
              "    <div class=\"colab-df-container\">\n",
              "      <div>\n",
              "<style scoped>\n",
              "    .dataframe tbody tr th:only-of-type {\n",
              "        vertical-align: middle;\n",
              "    }\n",
              "\n",
              "    .dataframe tbody tr th {\n",
              "        vertical-align: top;\n",
              "    }\n",
              "\n",
              "    .dataframe thead th {\n",
              "        text-align: right;\n",
              "    }\n",
              "</style>\n",
              "<table border=\"1\" class=\"dataframe\">\n",
              "  <thead>\n",
              "    <tr style=\"text-align: right;\">\n",
              "      <th></th>\n",
              "      <th>total_sqft</th>\n",
              "      <th>size</th>\n",
              "      <th>area_type_Plot  Area</th>\n",
              "      <th>bath</th>\n",
              "      <th>location_other</th>\n",
              "      <th>location_Rajaji Nagar</th>\n",
              "      <th>area_type_Super built-up  Area</th>\n",
              "      <th>location_Indira Nagar</th>\n",
              "      <th>location_Banashankari Stage II</th>\n",
              "      <th>area_type_Carpet  Area</th>\n",
              "    </tr>\n",
              "  </thead>\n",
              "  <tbody>\n",
              "    <tr>\n",
              "      <th>3643</th>\n",
              "      <td>650.0</td>\n",
              "      <td>1.0</td>\n",
              "      <td>0</td>\n",
              "      <td>1.0</td>\n",
              "      <td>1</td>\n",
              "      <td>0</td>\n",
              "      <td>1</td>\n",
              "      <td>0</td>\n",
              "      <td>0</td>\n",
              "      <td>0</td>\n",
              "    </tr>\n",
              "    <tr>\n",
              "      <th>4668</th>\n",
              "      <td>845.0</td>\n",
              "      <td>2.0</td>\n",
              "      <td>0</td>\n",
              "      <td>2.0</td>\n",
              "      <td>0</td>\n",
              "      <td>0</td>\n",
              "      <td>1</td>\n",
              "      <td>0</td>\n",
              "      <td>0</td>\n",
              "      <td>0</td>\n",
              "    </tr>\n",
              "    <tr>\n",
              "      <th>6297</th>\n",
              "      <td>600.0</td>\n",
              "      <td>3.0</td>\n",
              "      <td>1</td>\n",
              "      <td>4.0</td>\n",
              "      <td>1</td>\n",
              "      <td>0</td>\n",
              "      <td>0</td>\n",
              "      <td>0</td>\n",
              "      <td>0</td>\n",
              "      <td>0</td>\n",
              "    </tr>\n",
              "    <tr>\n",
              "      <th>909</th>\n",
              "      <td>2238.0</td>\n",
              "      <td>3.0</td>\n",
              "      <td>0</td>\n",
              "      <td>3.0</td>\n",
              "      <td>0</td>\n",
              "      <td>0</td>\n",
              "      <td>0</td>\n",
              "      <td>0</td>\n",
              "      <td>0</td>\n",
              "      <td>0</td>\n",
              "    </tr>\n",
              "    <tr>\n",
              "      <th>8243</th>\n",
              "      <td>820.0</td>\n",
              "      <td>2.0</td>\n",
              "      <td>0</td>\n",
              "      <td>2.0</td>\n",
              "      <td>1</td>\n",
              "      <td>0</td>\n",
              "      <td>0</td>\n",
              "      <td>0</td>\n",
              "      <td>0</td>\n",
              "      <td>0</td>\n",
              "    </tr>\n",
              "    <tr>\n",
              "      <th>...</th>\n",
              "      <td>...</td>\n",
              "      <td>...</td>\n",
              "      <td>...</td>\n",
              "      <td>...</td>\n",
              "      <td>...</td>\n",
              "      <td>...</td>\n",
              "      <td>...</td>\n",
              "      <td>...</td>\n",
              "      <td>...</td>\n",
              "      <td>...</td>\n",
              "    </tr>\n",
              "    <tr>\n",
              "      <th>12961</th>\n",
              "      <td>1799.0</td>\n",
              "      <td>6.0</td>\n",
              "      <td>0</td>\n",
              "      <td>6.0</td>\n",
              "      <td>1</td>\n",
              "      <td>0</td>\n",
              "      <td>0</td>\n",
              "      <td>0</td>\n",
              "      <td>0</td>\n",
              "      <td>0</td>\n",
              "    </tr>\n",
              "    <tr>\n",
              "      <th>5986</th>\n",
              "      <td>1300.0</td>\n",
              "      <td>2.0</td>\n",
              "      <td>0</td>\n",
              "      <td>2.0</td>\n",
              "      <td>0</td>\n",
              "      <td>0</td>\n",
              "      <td>0</td>\n",
              "      <td>0</td>\n",
              "      <td>0</td>\n",
              "      <td>0</td>\n",
              "    </tr>\n",
              "    <tr>\n",
              "      <th>6214</th>\n",
              "      <td>1200.0</td>\n",
              "      <td>6.0</td>\n",
              "      <td>1</td>\n",
              "      <td>6.0</td>\n",
              "      <td>0</td>\n",
              "      <td>0</td>\n",
              "      <td>0</td>\n",
              "      <td>0</td>\n",
              "      <td>0</td>\n",
              "      <td>0</td>\n",
              "    </tr>\n",
              "    <tr>\n",
              "      <th>994</th>\n",
              "      <td>1175.0</td>\n",
              "      <td>2.0</td>\n",
              "      <td>0</td>\n",
              "      <td>2.0</td>\n",
              "      <td>0</td>\n",
              "      <td>0</td>\n",
              "      <td>1</td>\n",
              "      <td>0</td>\n",
              "      <td>0</td>\n",
              "      <td>0</td>\n",
              "    </tr>\n",
              "    <tr>\n",
              "      <th>8388</th>\n",
              "      <td>1000.0</td>\n",
              "      <td>2.0</td>\n",
              "      <td>0</td>\n",
              "      <td>2.0</td>\n",
              "      <td>0</td>\n",
              "      <td>0</td>\n",
              "      <td>1</td>\n",
              "      <td>0</td>\n",
              "      <td>0</td>\n",
              "      <td>0</td>\n",
              "    </tr>\n",
              "  </tbody>\n",
              "</table>\n",
              "<p>9278 rows × 10 columns</p>\n",
              "</div>\n",
              "      <button class=\"colab-df-convert\" onclick=\"convertToInteractive('df-617338ab-084a-41d9-8962-f3f7a2e4ff53')\"\n",
              "              title=\"Convert this dataframe to an interactive table.\"\n",
              "              style=\"display:none;\">\n",
              "        \n",
              "  <svg xmlns=\"http://www.w3.org/2000/svg\" height=\"24px\"viewBox=\"0 0 24 24\"\n",
              "       width=\"24px\">\n",
              "    <path d=\"M0 0h24v24H0V0z\" fill=\"none\"/>\n",
              "    <path d=\"M18.56 5.44l.94 2.06.94-2.06 2.06-.94-2.06-.94-.94-2.06-.94 2.06-2.06.94zm-11 1L8.5 8.5l.94-2.06 2.06-.94-2.06-.94L8.5 2.5l-.94 2.06-2.06.94zm10 10l.94 2.06.94-2.06 2.06-.94-2.06-.94-.94-2.06-.94 2.06-2.06.94z\"/><path d=\"M17.41 7.96l-1.37-1.37c-.4-.4-.92-.59-1.43-.59-.52 0-1.04.2-1.43.59L10.3 9.45l-7.72 7.72c-.78.78-.78 2.05 0 2.83L4 21.41c.39.39.9.59 1.41.59.51 0 1.02-.2 1.41-.59l7.78-7.78 2.81-2.81c.8-.78.8-2.07 0-2.86zM5.41 20L4 18.59l7.72-7.72 1.47 1.35L5.41 20z\"/>\n",
              "  </svg>\n",
              "      </button>\n",
              "      \n",
              "  <style>\n",
              "    .colab-df-container {\n",
              "      display:flex;\n",
              "      flex-wrap:wrap;\n",
              "      gap: 12px;\n",
              "    }\n",
              "\n",
              "    .colab-df-convert {\n",
              "      background-color: #E8F0FE;\n",
              "      border: none;\n",
              "      border-radius: 50%;\n",
              "      cursor: pointer;\n",
              "      display: none;\n",
              "      fill: #1967D2;\n",
              "      height: 32px;\n",
              "      padding: 0 0 0 0;\n",
              "      width: 32px;\n",
              "    }\n",
              "\n",
              "    .colab-df-convert:hover {\n",
              "      background-color: #E2EBFA;\n",
              "      box-shadow: 0px 1px 2px rgba(60, 64, 67, 0.3), 0px 1px 3px 1px rgba(60, 64, 67, 0.15);\n",
              "      fill: #174EA6;\n",
              "    }\n",
              "\n",
              "    [theme=dark] .colab-df-convert {\n",
              "      background-color: #3B4455;\n",
              "      fill: #D2E3FC;\n",
              "    }\n",
              "\n",
              "    [theme=dark] .colab-df-convert:hover {\n",
              "      background-color: #434B5C;\n",
              "      box-shadow: 0px 1px 3px 1px rgba(0, 0, 0, 0.15);\n",
              "      filter: drop-shadow(0px 1px 2px rgba(0, 0, 0, 0.3));\n",
              "      fill: #FFFFFF;\n",
              "    }\n",
              "  </style>\n",
              "\n",
              "      <script>\n",
              "        const buttonEl =\n",
              "          document.querySelector('#df-617338ab-084a-41d9-8962-f3f7a2e4ff53 button.colab-df-convert');\n",
              "        buttonEl.style.display =\n",
              "          google.colab.kernel.accessAllowed ? 'block' : 'none';\n",
              "\n",
              "        async function convertToInteractive(key) {\n",
              "          const element = document.querySelector('#df-617338ab-084a-41d9-8962-f3f7a2e4ff53');\n",
              "          const dataTable =\n",
              "            await google.colab.kernel.invokeFunction('convertToInteractive',\n",
              "                                                     [key], {});\n",
              "          if (!dataTable) return;\n",
              "\n",
              "          const docLinkHtml = 'Like what you see? Visit the ' +\n",
              "            '<a target=\"_blank\" href=https://colab.research.google.com/notebooks/data_table.ipynb>data table notebook</a>'\n",
              "            + ' to learn more about interactive tables.';\n",
              "          element.innerHTML = '';\n",
              "          dataTable['output_type'] = 'display_data';\n",
              "          await google.colab.output.renderOutput(dataTable, element);\n",
              "          const docLink = document.createElement('div');\n",
              "          docLink.innerHTML = docLinkHtml;\n",
              "          element.appendChild(docLink);\n",
              "        }\n",
              "      </script>\n",
              "    </div>\n",
              "  </div>\n",
              "  "
            ]
          },
          "metadata": {},
          "execution_count": 770
        }
      ]
    },
    {
      "cell_type": "code",
      "source": [
        "from sklearn.ensemble import RandomForestRegressor\n",
        "rfr=RandomForestRegressor(n_estimators=100)\n",
        "rfr.fit(x_train, y_train)"
      ],
      "metadata": {
        "colab": {
          "base_uri": "https://localhost:8080/"
        },
        "id": "tTa4oeoPKVpW",
        "outputId": "24555caf-b37e-493d-c30e-6c4830d05f89"
      },
      "execution_count": null,
      "outputs": [
        {
          "output_type": "execute_result",
          "data": {
            "text/plain": [
              "RandomForestRegressor()"
            ]
          },
          "metadata": {},
          "execution_count": 771
        }
      ]
    },
    {
      "cell_type": "code",
      "source": [
        "test_pred = rfr.predict(x_test)\n",
        "train_pred=rfr.predict(x_train)"
      ],
      "metadata": {
        "id": "RxzdSIq9KfWK"
      },
      "execution_count": null,
      "outputs": []
    },
    {
      "cell_type": "code",
      "source": [
        "rfr_score = rfr.score(x_test,y_test)"
      ],
      "metadata": {
        "id": "buge9cGEKszH"
      },
      "execution_count": null,
      "outputs": []
    },
    {
      "cell_type": "code",
      "source": [
        "print(rfr_score*100,'%')"
      ],
      "metadata": {
        "colab": {
          "base_uri": "https://localhost:8080/"
        },
        "id": "q4z-_hl7KzrN",
        "outputId": "2e27f961-228a-4e8f-cd13-9744c7c6bbf2"
      },
      "execution_count": null,
      "outputs": [
        {
          "output_type": "stream",
          "name": "stdout",
          "text": [
            "60.448997891407984 %\n"
          ]
        }
      ]
    },
    {
      "cell_type": "markdown",
      "source": [
        "# **Conclusion:**"
      ],
      "metadata": {
        "id": "NbSYmnLgoBT8"
      }
    },
    {
      "cell_type": "code",
      "source": [
        "\n",
        "Model_Comparison = pd.DataFrame({\n",
        "    'Model' : ['Linear Regression','Random Forest Regression','Decision Tree Regression','KNeighbors regression'],\n",
        "    'Scores_test': [lm_score* 100 ,rfr_score* 100,dtr_score* 100,knn_score* 100]\n",
        "    })\n",
        "Model_Comparison"
      ],
      "metadata": {
        "id": "Po0edKf9vkdo",
        "colab": {
          "base_uri": "https://localhost:8080/",
          "height": 175
        },
        "outputId": "a9de5810-a0d5-4403-d2b9-3054a2ca2595"
      },
      "execution_count": null,
      "outputs": [
        {
          "output_type": "execute_result",
          "data": {
            "text/plain": [
              "                      Model  Scores_test\n",
              "0         Linear Regression    56.861727\n",
              "1  Random Forest Regression    60.886546\n",
              "2  Decision Tree Regression    45.664400\n",
              "3     KNeighbors regression    52.904272"
            ],
            "text/html": [
              "\n",
              "  <div id=\"df-779886b5-bbfc-447e-bb7d-3c51f95cd411\">\n",
              "    <div class=\"colab-df-container\">\n",
              "      <div>\n",
              "<style scoped>\n",
              "    .dataframe tbody tr th:only-of-type {\n",
              "        vertical-align: middle;\n",
              "    }\n",
              "\n",
              "    .dataframe tbody tr th {\n",
              "        vertical-align: top;\n",
              "    }\n",
              "\n",
              "    .dataframe thead th {\n",
              "        text-align: right;\n",
              "    }\n",
              "</style>\n",
              "<table border=\"1\" class=\"dataframe\">\n",
              "  <thead>\n",
              "    <tr style=\"text-align: right;\">\n",
              "      <th></th>\n",
              "      <th>Model</th>\n",
              "      <th>Scores_test</th>\n",
              "    </tr>\n",
              "  </thead>\n",
              "  <tbody>\n",
              "    <tr>\n",
              "      <th>0</th>\n",
              "      <td>Linear Regression</td>\n",
              "      <td>56.861727</td>\n",
              "    </tr>\n",
              "    <tr>\n",
              "      <th>1</th>\n",
              "      <td>Random Forest Regression</td>\n",
              "      <td>60.886546</td>\n",
              "    </tr>\n",
              "    <tr>\n",
              "      <th>2</th>\n",
              "      <td>Decision Tree Regression</td>\n",
              "      <td>45.664400</td>\n",
              "    </tr>\n",
              "    <tr>\n",
              "      <th>3</th>\n",
              "      <td>KNeighbors regression</td>\n",
              "      <td>52.904272</td>\n",
              "    </tr>\n",
              "  </tbody>\n",
              "</table>\n",
              "</div>\n",
              "      <button class=\"colab-df-convert\" onclick=\"convertToInteractive('df-779886b5-bbfc-447e-bb7d-3c51f95cd411')\"\n",
              "              title=\"Convert this dataframe to an interactive table.\"\n",
              "              style=\"display:none;\">\n",
              "        \n",
              "  <svg xmlns=\"http://www.w3.org/2000/svg\" height=\"24px\"viewBox=\"0 0 24 24\"\n",
              "       width=\"24px\">\n",
              "    <path d=\"M0 0h24v24H0V0z\" fill=\"none\"/>\n",
              "    <path d=\"M18.56 5.44l.94 2.06.94-2.06 2.06-.94-2.06-.94-.94-2.06-.94 2.06-2.06.94zm-11 1L8.5 8.5l.94-2.06 2.06-.94-2.06-.94L8.5 2.5l-.94 2.06-2.06.94zm10 10l.94 2.06.94-2.06 2.06-.94-2.06-.94-.94-2.06-.94 2.06-2.06.94z\"/><path d=\"M17.41 7.96l-1.37-1.37c-.4-.4-.92-.59-1.43-.59-.52 0-1.04.2-1.43.59L10.3 9.45l-7.72 7.72c-.78.78-.78 2.05 0 2.83L4 21.41c.39.39.9.59 1.41.59.51 0 1.02-.2 1.41-.59l7.78-7.78 2.81-2.81c.8-.78.8-2.07 0-2.86zM5.41 20L4 18.59l7.72-7.72 1.47 1.35L5.41 20z\"/>\n",
              "  </svg>\n",
              "      </button>\n",
              "      \n",
              "  <style>\n",
              "    .colab-df-container {\n",
              "      display:flex;\n",
              "      flex-wrap:wrap;\n",
              "      gap: 12px;\n",
              "    }\n",
              "\n",
              "    .colab-df-convert {\n",
              "      background-color: #E8F0FE;\n",
              "      border: none;\n",
              "      border-radius: 50%;\n",
              "      cursor: pointer;\n",
              "      display: none;\n",
              "      fill: #1967D2;\n",
              "      height: 32px;\n",
              "      padding: 0 0 0 0;\n",
              "      width: 32px;\n",
              "    }\n",
              "\n",
              "    .colab-df-convert:hover {\n",
              "      background-color: #E2EBFA;\n",
              "      box-shadow: 0px 1px 2px rgba(60, 64, 67, 0.3), 0px 1px 3px 1px rgba(60, 64, 67, 0.15);\n",
              "      fill: #174EA6;\n",
              "    }\n",
              "\n",
              "    [theme=dark] .colab-df-convert {\n",
              "      background-color: #3B4455;\n",
              "      fill: #D2E3FC;\n",
              "    }\n",
              "\n",
              "    [theme=dark] .colab-df-convert:hover {\n",
              "      background-color: #434B5C;\n",
              "      box-shadow: 0px 1px 3px 1px rgba(0, 0, 0, 0.15);\n",
              "      filter: drop-shadow(0px 1px 2px rgba(0, 0, 0, 0.3));\n",
              "      fill: #FFFFFF;\n",
              "    }\n",
              "  </style>\n",
              "\n",
              "      <script>\n",
              "        const buttonEl =\n",
              "          document.querySelector('#df-779886b5-bbfc-447e-bb7d-3c51f95cd411 button.colab-df-convert');\n",
              "        buttonEl.style.display =\n",
              "          google.colab.kernel.accessAllowed ? 'block' : 'none';\n",
              "\n",
              "        async function convertToInteractive(key) {\n",
              "          const element = document.querySelector('#df-779886b5-bbfc-447e-bb7d-3c51f95cd411');\n",
              "          const dataTable =\n",
              "            await google.colab.kernel.invokeFunction('convertToInteractive',\n",
              "                                                     [key], {});\n",
              "          if (!dataTable) return;\n",
              "\n",
              "          const docLinkHtml = 'Like what you see? Visit the ' +\n",
              "            '<a target=\"_blank\" href=https://colab.research.google.com/notebooks/data_table.ipynb>data table notebook</a>'\n",
              "            + ' to learn more about interactive tables.';\n",
              "          element.innerHTML = '';\n",
              "          dataTable['output_type'] = 'display_data';\n",
              "          await google.colab.output.renderOutput(dataTable, element);\n",
              "          const docLink = document.createElement('div');\n",
              "          docLink.innerHTML = docLinkHtml;\n",
              "          element.appendChild(docLink);\n",
              "        }\n",
              "      </script>\n",
              "    </div>\n",
              "  </div>\n",
              "  "
            ]
          },
          "metadata": {},
          "execution_count": 769
        }
      ]
    },
    {
      "cell_type": "code",
      "source": [],
      "metadata": {
        "id": "WBJEqR2upzK-"
      },
      "execution_count": null,
      "outputs": []
    }
  ]
}